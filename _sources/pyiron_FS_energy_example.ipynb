{
 "cells": [
  {
   "cell_type": "markdown",
   "metadata": {},
   "source": [
    "### A pyiron workflow to calculate a free surface energy using multiple potentials, and compare to literature DFT data.\n",
    "\n",
    "This notebook __doesn't__ work out of the box if you haven't configured LAMMPS for pyiron\n",
    "\n",
    "conda install -c conda-forge lammps \n",
    "\n",
    "OR\n",
    "\n",
    "mamba install -c conda-forge lammps\n",
    "\n",
    "In the python environment in which you are running pyiron\n",
    "\n",
    "WARNING: In practice/production you should configure a compiled LAMMPS executable that is optimised for your cluster!"
   ]
  },
  {
   "cell_type": "code",
   "execution_count": 1,
   "metadata": {},
   "outputs": [
    {
     "data": {
      "application/vnd.jupyter.widget-view+json": {
       "model_id": "3a463f4d732b423d8801932b452c4d81",
       "version_major": 2,
       "version_minor": 0
      },
      "text/plain": []
     },
     "metadata": {},
     "output_type": "display_data"
    }
   ],
   "source": [
    "from pyiron.project import Project\n",
    "\n",
    "import numpy as np\n",
    "import pandas as pd\n",
    "\n",
    "from ase.lattice.cubic import BodyCenteredCubic as bcc\n",
    "from ase.build import stack\n",
    "\n",
    "from pymatgen.io.ase import AseAtomsAdaptor\n",
    "from pymatgen.core import Structure\n",
    "\n",
    "from pyiron.atomistics.structure.atoms import ase_to_pyiron, pymatgen_to_pyiron"
   ]
  },
  {
   "cell_type": "code",
   "execution_count": 2,
   "metadata": {},
   "outputs": [],
   "source": [
    "pr = Project(\"FS_calcs\")"
   ]
  },
  {
   "cell_type": "markdown",
   "metadata": {},
   "source": [
    "Create the structure that we're going to use:\n",
    "a $(111)$ Fe free surface (slab)"
   ]
  },
  {
   "cell_type": "code",
   "execution_count": 3,
   "metadata": {},
   "outputs": [],
   "source": [
    "def add_vacuum(structure, vacuum):\n",
    "    \"\"\"\n",
    "    Adds padding to a slab or 2D material.\n",
    "\n",
    "    Args:\n",
    "        structure (Structure): Structure to add vacuum to\n",
    "        vacuum (float): Vacuum thickness to add in Angstroms\n",
    "    Returns:\n",
    "        Structure object with vacuum added.\n",
    "    \"\"\"\n",
    "    struct = structure.copy()\n",
    "    coords = [s.coords for s in struct.sites]\n",
    "    species = [s.specie for s in struct.sites]\n",
    "    lattice = struct.lattice.matrix\n",
    "    lattice.setflags(write=1)\n",
    "    lattice_C = lattice\n",
    "    lattice_C[2][2] += vacuum\n",
    "    struct = Structure(lattice_C, species, coords, coords_are_cartesian=True)\n",
    "    \n",
    "    return struct"
   ]
  },
  {
   "cell_type": "code",
   "execution_count": 4,
   "metadata": {},
   "outputs": [],
   "source": [
    "surface1 = [1, 1, 1]\n",
    "rotation_axis = [1, -1, 0]\n",
    "element = \"Fe\"\n",
    "lc = 2.8318488966083\n",
    "GB_name = \"S3-RA110-S1-11\"\n",
    "\n",
    "# The minimum required length of the cell.\n",
    "req_length = 15\n",
    "\n",
    "v1 = list(-np.cross(rotation_axis,surface1))\n",
    "\n",
    "length = 0\n",
    "n = 0\n",
    "while length < req_length:\n",
    "    n += 1\n",
    "    \n",
    "    slab1 = bcc(symbol=element, latticeconstant=lc,directions=[rotation_axis,v1,surface1], size=[1,1,n])\n",
    "\n",
    "    slab = stack(slab1, slab1)\n",
    "    length = slab.cell[-1,-1]\n",
    "    slab.rattle()\n",
    "    \n",
    "    pmg_slab = AseAtomsAdaptor().get_structure(slab.copy())\n",
    "    \n",
    "    pmg_slab_vac = pmg_slab.copy()\n",
    "    pmg_slab_vac = add_vacuum(pmg_slab_vac, 15)"
   ]
  },
  {
   "cell_type": "markdown",
   "metadata": {},
   "source": [
    "Create the pyiron job, assign the structure to the job."
   ]
  },
  {
   "cell_type": "markdown",
   "metadata": {},
   "source": [
    "We need to see the potentials, pyiron has an inbuilt potential database\n",
    "\n",
    "It automatically finds the applicable potentials given the structure provided."
   ]
  },
  {
   "cell_type": "code",
   "execution_count": 5,
   "metadata": {},
   "outputs": [
    {
     "data": {
      "text/plain": [
       "['1997--Ackland-G-J--Fe--LAMMPS--ipr1',\n",
       " '1998--Meyer-R--Fe--LAMMPS--ipr1',\n",
       " '2001--Lee-B-J--Fe--LAMMPS--ipr1',\n",
       " '2001--Lee-B-J--Fe-Cr--LAMMPS--ipr1',\n",
       " '2003--Mendelev-M-I--Fe-2--LAMMPS--ipr3',\n",
       " '2003--Mendelev-M-I--Fe-5--LAMMPS--ipr1',\n",
       " '2004--Ackland-G-J--Fe-P--LAMMPS--ipr1',\n",
       " '2004--Zhou-X-W--Fe--LAMMPS--ipr2',\n",
       " '2005--Lee-B-J--Fe-Cu--LAMMPS--ipr1',\n",
       " '2005--Mendelev-M-I--Al-Fe--LAMMPS--ipr1']"
      ]
     },
     "execution_count": 5,
     "metadata": {},
     "output_type": "execute_result"
    }
   ],
   "source": [
    "job = pr.create_job(job_type=pr.job_type.Lammps, job_name=\"test\")\n",
    "job.structure = pymatgen_to_pyiron(pmg_slab)\n",
    "job.list_potentials()[:10]"
   ]
  },
  {
   "cell_type": "code",
   "execution_count": 6,
   "metadata": {},
   "outputs": [
    {
     "name": "stderr",
     "output_type": "stream",
     "text": [
      "2023-08-11 18:23:47,719 - pyiron_log - WARNING - No HDF5 file found - remove database entry and create new job! bulk_slab_111_0\n"
     ]
    },
    {
     "name": "stdout",
     "output_type": "stream",
     "text": [
      "The job bulk_slab_111_0 was saved and received the ID: 765\n"
     ]
    },
    {
     "name": "stderr",
     "output_type": "stream",
     "text": [
      "2023-08-11 18:23:48,408 - pyiron_log - WARNING - No HDF5 file found - remove database entry and create new job! FS_slab_111_0\n"
     ]
    },
    {
     "name": "stdout",
     "output_type": "stream",
     "text": [
      "The job FS_slab_111_0 was saved and received the ID: 766\n"
     ]
    },
    {
     "name": "stderr",
     "output_type": "stream",
     "text": [
      "2023-08-11 18:23:48,993 - pyiron_log - WARNING - No HDF5 file found - remove database entry and create new job! bulk_slab_111_1\n"
     ]
    },
    {
     "name": "stdout",
     "output_type": "stream",
     "text": [
      "The job bulk_slab_111_1 was saved and received the ID: 768\n"
     ]
    },
    {
     "name": "stderr",
     "output_type": "stream",
     "text": [
      "2023-08-11 18:23:49,700 - pyiron_log - WARNING - No HDF5 file found - remove database entry and create new job! FS_slab_111_1\n"
     ]
    },
    {
     "name": "stdout",
     "output_type": "stream",
     "text": [
      "The job FS_slab_111_1 was saved and received the ID: 770\n"
     ]
    },
    {
     "name": "stderr",
     "output_type": "stream",
     "text": [
      "2023-08-11 18:23:50,438 - pyiron_log - WARNING - No HDF5 file found - remove database entry and create new job! bulk_slab_111_2\n"
     ]
    },
    {
     "name": "stdout",
     "output_type": "stream",
     "text": [
      "The job bulk_slab_111_2 was saved and received the ID: 771\n"
     ]
    },
    {
     "name": "stderr",
     "output_type": "stream",
     "text": [
      "2023-08-11 18:23:51,868 - pyiron_log - WARNING - No HDF5 file found - remove database entry and create new job! FS_slab_111_2\n"
     ]
    },
    {
     "name": "stdout",
     "output_type": "stream",
     "text": [
      "The job FS_slab_111_2 was saved and received the ID: 775\n"
     ]
    },
    {
     "name": "stderr",
     "output_type": "stream",
     "text": [
      "2023-08-11 18:23:52,403 - pyiron_log - WARNING - No HDF5 file found - remove database entry and create new job! bulk_slab_111_3\n"
     ]
    },
    {
     "name": "stdout",
     "output_type": "stream",
     "text": [
      "The job bulk_slab_111_3 was saved and received the ID: 777\n"
     ]
    },
    {
     "name": "stderr",
     "output_type": "stream",
     "text": [
      "2023-08-11 18:23:53,565 - pyiron_log - WARNING - No HDF5 file found - remove database entry and create new job! FS_slab_111_3\n"
     ]
    },
    {
     "name": "stdout",
     "output_type": "stream",
     "text": [
      "The job FS_slab_111_3 was saved and received the ID: 780\n"
     ]
    },
    {
     "name": "stderr",
     "output_type": "stream",
     "text": [
      "2023-08-11 18:23:54,084 - pyiron_log - WARNING - No HDF5 file found - remove database entry and create new job! bulk_slab_111_4\n"
     ]
    },
    {
     "name": "stdout",
     "output_type": "stream",
     "text": [
      "The job bulk_slab_111_4 was saved and received the ID: 781\n"
     ]
    },
    {
     "name": "stderr",
     "output_type": "stream",
     "text": [
      "2023-08-11 18:23:54,794 - pyiron_log - WARNING - No HDF5 file found - remove database entry and create new job! FS_slab_111_4\n"
     ]
    },
    {
     "name": "stdout",
     "output_type": "stream",
     "text": [
      "The job FS_slab_111_4 was saved and received the ID: 783\n"
     ]
    },
    {
     "name": "stderr",
     "output_type": "stream",
     "text": [
      "2023-08-11 18:23:55,576 - pyiron_log - WARNING - No HDF5 file found - remove database entry and create new job! bulk_slab_111_5\n"
     ]
    },
    {
     "name": "stdout",
     "output_type": "stream",
     "text": [
      "The job bulk_slab_111_5 was saved and received the ID: 786\n"
     ]
    },
    {
     "name": "stderr",
     "output_type": "stream",
     "text": [
      "2023-08-11 18:23:56,292 - pyiron_log - WARNING - No HDF5 file found - remove database entry and create new job! FS_slab_111_5\n"
     ]
    },
    {
     "name": "stdout",
     "output_type": "stream",
     "text": [
      "The job FS_slab_111_5 was saved and received the ID: 788\n"
     ]
    },
    {
     "name": "stderr",
     "output_type": "stream",
     "text": [
      "2023-08-11 18:23:57,001 - pyiron_log - WARNING - No HDF5 file found - remove database entry and create new job! bulk_slab_111_6\n"
     ]
    },
    {
     "name": "stdout",
     "output_type": "stream",
     "text": [
      "The job bulk_slab_111_6 was saved and received the ID: 790\n"
     ]
    },
    {
     "name": "stderr",
     "output_type": "stream",
     "text": [
      "2023-08-11 18:23:58,061 - pyiron_log - WARNING - No HDF5 file found - remove database entry and create new job! FS_slab_111_6\n"
     ]
    },
    {
     "name": "stdout",
     "output_type": "stream",
     "text": [
      "The job FS_slab_111_6 was saved and received the ID: 793\n"
     ]
    },
    {
     "name": "stderr",
     "output_type": "stream",
     "text": [
      "2023-08-11 18:23:59,186 - pyiron_log - WARNING - No HDF5 file found - remove database entry and create new job! bulk_slab_111_7\n"
     ]
    },
    {
     "name": "stdout",
     "output_type": "stream",
     "text": [
      "The job bulk_slab_111_7 was saved and received the ID: 796\n"
     ]
    },
    {
     "name": "stderr",
     "output_type": "stream",
     "text": [
      "2023-08-11 18:23:59,674 - pyiron_log - WARNING - No HDF5 file found - remove database entry and create new job! FS_slab_111_7\n"
     ]
    },
    {
     "name": "stdout",
     "output_type": "stream",
     "text": [
      "The job FS_slab_111_7 was saved and received the ID: 798\n"
     ]
    },
    {
     "name": "stderr",
     "output_type": "stream",
     "text": [
      "2023-08-11 18:24:00,232 - pyiron_log - WARNING - No HDF5 file found - remove database entry and create new job! bulk_slab_111_8\n"
     ]
    },
    {
     "name": "stdout",
     "output_type": "stream",
     "text": [
      "The job bulk_slab_111_8 was saved and received the ID: 800\n"
     ]
    },
    {
     "name": "stderr",
     "output_type": "stream",
     "text": [
      "2023-08-11 18:24:01,237 - pyiron_log - WARNING - No HDF5 file found - remove database entry and create new job! FS_slab_111_8\n"
     ]
    },
    {
     "name": "stdout",
     "output_type": "stream",
     "text": [
      "The job FS_slab_111_8 was saved and received the ID: 802\n"
     ]
    },
    {
     "name": "stderr",
     "output_type": "stream",
     "text": [
      "2023-08-11 18:24:01,735 - pyiron_log - WARNING - No HDF5 file found - remove database entry and create new job! bulk_slab_111_9\n"
     ]
    },
    {
     "name": "stdout",
     "output_type": "stream",
     "text": [
      "The job bulk_slab_111_9 was saved and received the ID: 803\n"
     ]
    },
    {
     "name": "stderr",
     "output_type": "stream",
     "text": [
      "2023-08-11 18:24:02,569 - pyiron_log - WARNING - No HDF5 file found - remove database entry and create new job! FS_slab_111_9\n"
     ]
    },
    {
     "name": "stdout",
     "output_type": "stream",
     "text": [
      "The job FS_slab_111_9 was saved and received the ID: 805\n"
     ]
    },
    {
     "name": "stderr",
     "output_type": "stream",
     "text": [
      "2023-08-11 18:24:03,384 - pyiron_log - WARNING - No HDF5 file found - remove database entry and create new job! bulk_slab_111_10\n"
     ]
    },
    {
     "name": "stdout",
     "output_type": "stream",
     "text": [
      "The job bulk_slab_111_10 was saved and received the ID: 807\n"
     ]
    },
    {
     "name": "stderr",
     "output_type": "stream",
     "text": [
      "2023-08-11 18:24:03,918 - pyiron_log - WARNING - No HDF5 file found - remove database entry and create new job! FS_slab_111_10\n"
     ]
    },
    {
     "name": "stdout",
     "output_type": "stream",
     "text": [
      "The job FS_slab_111_10 was saved and received the ID: 808\n"
     ]
    },
    {
     "name": "stderr",
     "output_type": "stream",
     "text": [
      "2023-08-11 18:24:04,376 - pyiron_log - WARNING - No HDF5 file found - remove database entry and create new job! bulk_slab_111_11\n"
     ]
    },
    {
     "name": "stdout",
     "output_type": "stream",
     "text": [
      "The job bulk_slab_111_11 was saved and received the ID: 809\n"
     ]
    },
    {
     "name": "stderr",
     "output_type": "stream",
     "text": [
      "2023-08-11 18:24:05,391 - pyiron_log - WARNING - No HDF5 file found - remove database entry and create new job! FS_slab_111_11\n"
     ]
    },
    {
     "name": "stdout",
     "output_type": "stream",
     "text": [
      "The job FS_slab_111_11 was saved and received the ID: 812\n"
     ]
    },
    {
     "name": "stderr",
     "output_type": "stream",
     "text": [
      "2023-08-11 18:24:06,004 - pyiron_log - WARNING - No HDF5 file found - remove database entry and create new job! bulk_slab_111_12\n"
     ]
    },
    {
     "name": "stdout",
     "output_type": "stream",
     "text": [
      "The job bulk_slab_111_12 was saved and received the ID: 814\n"
     ]
    },
    {
     "name": "stderr",
     "output_type": "stream",
     "text": [
      "2023-08-11 18:24:07,645 - pyiron_log - WARNING - No HDF5 file found - remove database entry and create new job! FS_slab_111_12\n"
     ]
    },
    {
     "name": "stdout",
     "output_type": "stream",
     "text": [
      "The job FS_slab_111_12 was saved and received the ID: 818\n"
     ]
    },
    {
     "name": "stderr",
     "output_type": "stream",
     "text": [
      "2023-08-11 18:24:08,099 - pyiron_log - WARNING - No HDF5 file found - remove database entry and create new job! bulk_slab_111_13\n"
     ]
    },
    {
     "name": "stdout",
     "output_type": "stream",
     "text": [
      "The job bulk_slab_111_13 was saved and received the ID: 819\n"
     ]
    },
    {
     "name": "stderr",
     "output_type": "stream",
     "text": [
      "2023-08-11 18:24:09,701 - pyiron_log - WARNING - No HDF5 file found - remove database entry and create new job! FS_slab_111_13\n"
     ]
    },
    {
     "name": "stdout",
     "output_type": "stream",
     "text": [
      "The job FS_slab_111_13 was saved and received the ID: 823\n"
     ]
    },
    {
     "name": "stderr",
     "output_type": "stream",
     "text": [
      "2023-08-11 18:24:10,267 - pyiron_log - WARNING - No HDF5 file found - remove database entry and create new job! bulk_slab_111_14\n"
     ]
    },
    {
     "name": "stdout",
     "output_type": "stream",
     "text": [
      "The job bulk_slab_111_14 was saved and received the ID: 825\n"
     ]
    },
    {
     "name": "stderr",
     "output_type": "stream",
     "text": [
      "2023-08-11 18:24:12,105 - pyiron_log - WARNING - No HDF5 file found - remove database entry and create new job! FS_slab_111_14\n"
     ]
    },
    {
     "name": "stdout",
     "output_type": "stream",
     "text": [
      "The job FS_slab_111_14 was saved and received the ID: 830\n"
     ]
    },
    {
     "name": "stderr",
     "output_type": "stream",
     "text": [
      "2023-08-11 18:24:12,799 - pyiron_log - WARNING - No HDF5 file found - remove database entry and create new job! bulk_slab_111_15\n"
     ]
    },
    {
     "name": "stdout",
     "output_type": "stream",
     "text": [
      "The job bulk_slab_111_15 was saved and received the ID: 832\n"
     ]
    },
    {
     "name": "stderr",
     "output_type": "stream",
     "text": [
      "2023-08-11 18:24:13,705 - pyiron_log - WARNING - No HDF5 file found - remove database entry and create new job! FS_slab_111_15\n"
     ]
    },
    {
     "name": "stdout",
     "output_type": "stream",
     "text": [
      "The job FS_slab_111_15 was saved and received the ID: 834\n"
     ]
    },
    {
     "name": "stderr",
     "output_type": "stream",
     "text": [
      "2023-08-11 18:24:14,636 - pyiron_log - WARNING - No HDF5 file found - remove database entry and create new job! bulk_slab_111_16\n"
     ]
    },
    {
     "name": "stdout",
     "output_type": "stream",
     "text": [
      "The job bulk_slab_111_16 was saved and received the ID: 837\n"
     ]
    },
    {
     "name": "stderr",
     "output_type": "stream",
     "text": [
      "2023-08-11 18:24:16,145 - pyiron_log - WARNING - No HDF5 file found - remove database entry and create new job! FS_slab_111_16\n"
     ]
    },
    {
     "name": "stdout",
     "output_type": "stream",
     "text": [
      "The job FS_slab_111_16 was saved and received the ID: 841\n"
     ]
    },
    {
     "name": "stderr",
     "output_type": "stream",
     "text": [
      "2023-08-11 18:24:17,399 - pyiron_log - WARNING - No HDF5 file found - remove database entry and create new job! bulk_slab_111_17\n"
     ]
    },
    {
     "name": "stdout",
     "output_type": "stream",
     "text": [
      "The job bulk_slab_111_17 was saved and received the ID: 843\n"
     ]
    },
    {
     "name": "stderr",
     "output_type": "stream",
     "text": [
      "2023-08-11 18:24:18,395 - pyiron_log - WARNING - No HDF5 file found - remove database entry and create new job! FS_slab_111_17\n"
     ]
    },
    {
     "name": "stdout",
     "output_type": "stream",
     "text": [
      "The job FS_slab_111_17 was saved and received the ID: 844\n"
     ]
    },
    {
     "name": "stderr",
     "output_type": "stream",
     "text": [
      "2023-08-11 18:24:18,891 - pyiron_log - WARNING - No HDF5 file found - remove database entry and create new job! bulk_slab_111_18\n"
     ]
    },
    {
     "name": "stdout",
     "output_type": "stream",
     "text": [
      "The job bulk_slab_111_18 was saved and received the ID: 845\n"
     ]
    },
    {
     "name": "stderr",
     "output_type": "stream",
     "text": [
      "2023-08-11 18:24:22,361 - pyiron_log - WARNING - No HDF5 file found - remove database entry and create new job! FS_slab_111_18\n"
     ]
    },
    {
     "name": "stdout",
     "output_type": "stream",
     "text": [
      "The job FS_slab_111_18 was saved and received the ID: 851\n"
     ]
    },
    {
     "name": "stderr",
     "output_type": "stream",
     "text": [
      "2023-08-11 18:24:22,908 - pyiron_log - WARNING - No HDF5 file found - remove database entry and create new job! bulk_slab_111_19\n"
     ]
    },
    {
     "name": "stdout",
     "output_type": "stream",
     "text": [
      "The job bulk_slab_111_19 was saved and received the ID: 853\n"
     ]
    },
    {
     "name": "stderr",
     "output_type": "stream",
     "text": [
      "2023-08-11 18:24:23,614 - pyiron_log - WARNING - No HDF5 file found - remove database entry and create new job! FS_slab_111_19\n"
     ]
    },
    {
     "name": "stdout",
     "output_type": "stream",
     "text": [
      "The job FS_slab_111_19 was saved and received the ID: 855\n"
     ]
    },
    {
     "name": "stderr",
     "output_type": "stream",
     "text": [
      "2023-08-11 18:24:24,469 - pyiron_log - WARNING - No HDF5 file found - remove database entry and create new job! bulk_slab_111_20\n"
     ]
    },
    {
     "name": "stdout",
     "output_type": "stream",
     "text": [
      "The job bulk_slab_111_20 was saved and received the ID: 857\n"
     ]
    },
    {
     "name": "stderr",
     "output_type": "stream",
     "text": [
      "2023-08-11 18:24:25,191 - pyiron_log - WARNING - No HDF5 file found - remove database entry and create new job! FS_slab_111_20\n"
     ]
    },
    {
     "name": "stdout",
     "output_type": "stream",
     "text": [
      "The job FS_slab_111_20 was saved and received the ID: 859\n"
     ]
    },
    {
     "name": "stderr",
     "output_type": "stream",
     "text": [
      "2023-08-11 18:24:25,835 - pyiron_log - WARNING - No HDF5 file found - remove database entry and create new job! bulk_slab_111_21\n"
     ]
    },
    {
     "name": "stdout",
     "output_type": "stream",
     "text": [
      "The job bulk_slab_111_21 was saved and received the ID: 861\n"
     ]
    },
    {
     "name": "stderr",
     "output_type": "stream",
     "text": [
      "2023-08-11 18:24:26,605 - pyiron_log - WARNING - No HDF5 file found - remove database entry and create new job! FS_slab_111_21\n"
     ]
    },
    {
     "name": "stdout",
     "output_type": "stream",
     "text": [
      "The job FS_slab_111_21 was saved and received the ID: 863\n"
     ]
    },
    {
     "name": "stderr",
     "output_type": "stream",
     "text": [
      "2023-08-11 18:24:27,202 - pyiron_log - WARNING - No HDF5 file found - remove database entry and create new job! bulk_slab_111_22\n"
     ]
    },
    {
     "name": "stdout",
     "output_type": "stream",
     "text": [
      "The job bulk_slab_111_22 was saved and received the ID: 865\n"
     ]
    },
    {
     "name": "stderr",
     "output_type": "stream",
     "text": [
      "2023-08-11 18:24:28,730 - pyiron_log - WARNING - No HDF5 file found - remove database entry and create new job! FS_slab_111_22\n"
     ]
    },
    {
     "name": "stdout",
     "output_type": "stream",
     "text": [
      "The job FS_slab_111_22 was saved and received the ID: 867\n"
     ]
    },
    {
     "name": "stderr",
     "output_type": "stream",
     "text": [
      "2023-08-11 18:24:29,157 - pyiron_log - WARNING - No HDF5 file found - remove database entry and create new job! bulk_slab_111_23\n"
     ]
    },
    {
     "name": "stdout",
     "output_type": "stream",
     "text": [
      "The job bulk_slab_111_23 was saved and received the ID: 868\n"
     ]
    },
    {
     "name": "stderr",
     "output_type": "stream",
     "text": [
      "2023-08-11 18:24:29,724 - pyiron_log - WARNING - No HDF5 file found - remove database entry and create new job! FS_slab_111_23\n"
     ]
    },
    {
     "name": "stdout",
     "output_type": "stream",
     "text": [
      "The job FS_slab_111_23 was saved and received the ID: 870\n"
     ]
    },
    {
     "name": "stderr",
     "output_type": "stream",
     "text": [
      "2023-08-11 18:24:30,199 - pyiron_log - WARNING - No HDF5 file found - remove database entry and create new job! bulk_slab_111_24\n"
     ]
    },
    {
     "name": "stdout",
     "output_type": "stream",
     "text": [
      "The job bulk_slab_111_24 was saved and received the ID: 871\n"
     ]
    },
    {
     "name": "stderr",
     "output_type": "stream",
     "text": [
      "2023-08-11 18:24:30,710 - pyiron_log - WARNING - No HDF5 file found - remove database entry and create new job! FS_slab_111_24\n"
     ]
    },
    {
     "name": "stdout",
     "output_type": "stream",
     "text": [
      "The job FS_slab_111_24 was saved and received the ID: 872\n"
     ]
    },
    {
     "name": "stderr",
     "output_type": "stream",
     "text": [
      "2023-08-11 18:24:31,157 - pyiron_log - WARNING - No HDF5 file found - remove database entry and create new job! bulk_slab_111_25\n"
     ]
    },
    {
     "name": "stdout",
     "output_type": "stream",
     "text": [
      "The job bulk_slab_111_25 was saved and received the ID: 874\n"
     ]
    },
    {
     "name": "stderr",
     "output_type": "stream",
     "text": [
      "2023-08-11 18:24:33,209 - pyiron_log - WARNING - No HDF5 file found - remove database entry and create new job! FS_slab_111_25\n"
     ]
    },
    {
     "name": "stdout",
     "output_type": "stream",
     "text": [
      "The job FS_slab_111_25 was saved and received the ID: 876\n"
     ]
    },
    {
     "name": "stderr",
     "output_type": "stream",
     "text": [
      "2023-08-11 18:24:33,835 - pyiron_log - WARNING - No HDF5 file found - remove database entry and create new job! bulk_slab_111_26\n"
     ]
    },
    {
     "name": "stdout",
     "output_type": "stream",
     "text": [
      "The job bulk_slab_111_26 was saved and received the ID: 878\n"
     ]
    },
    {
     "name": "stderr",
     "output_type": "stream",
     "text": [
      "2023-08-11 18:24:34,754 - pyiron_log - WARNING - No HDF5 file found - remove database entry and create new job! FS_slab_111_26\n"
     ]
    },
    {
     "name": "stdout",
     "output_type": "stream",
     "text": [
      "The job FS_slab_111_26 was saved and received the ID: 879\n"
     ]
    },
    {
     "name": "stderr",
     "output_type": "stream",
     "text": [
      "2023-08-11 18:24:35,268 - pyiron_log - WARNING - No HDF5 file found - remove database entry and create new job! bulk_slab_111_27\n"
     ]
    },
    {
     "name": "stdout",
     "output_type": "stream",
     "text": [
      "The job bulk_slab_111_27 was saved and received the ID: 880\n"
     ]
    },
    {
     "name": "stderr",
     "output_type": "stream",
     "text": [
      "2023-08-11 18:24:36,844 - pyiron_log - WARNING - No HDF5 file found - remove database entry and create new job! FS_slab_111_27\n"
     ]
    },
    {
     "name": "stdout",
     "output_type": "stream",
     "text": [
      "The job FS_slab_111_27 was saved and received the ID: 883\n"
     ]
    },
    {
     "name": "stderr",
     "output_type": "stream",
     "text": [
      "2023-08-11 18:24:38,631 - pyiron_log - WARNING - No HDF5 file found - remove database entry and create new job! bulk_slab_111_28\n",
      "2023-08-11 18:24:38,931 - pyiron_log - WARNING - Job aborted\n",
      "2023-08-11 18:24:38,932 - pyiron_log - WARNING - LAMMPS (28 Mar 2023 - Update 1)\n",
      "Reading data file ...\n",
      "  orthogonal box = (0 0 0) to (4.0048391 6.9365848 34.619625)\n",
      "  1 by 1 by 1 MPI processor grid\n",
      "  reading atoms ...\n",
      "  48 atoms\n",
      "  read_data CPU = 0.001 seconds\n",
      "ERROR on proc 0: Not a valid floating-point number: 'Infinity' (src/MANYBODY/pair_eam_alloy.cpp:174)\n",
      "Last command: pair_coeff * * eam/alloy FeCr_d.eam.alloy Fe Cr\n",
      "\n",
      "2023-08-11 18:24:38,947 - pyiron_log - WARNING - No HDF5 file found - remove database entry and create new job! bulk_slab_111_29\n"
     ]
    },
    {
     "name": "stdout",
     "output_type": "stream",
     "text": [
      "The job bulk_slab_111_28 was saved and received the ID: 887\n",
      "The job bulk_slab_111_29 was saved and received the ID: 889\n"
     ]
    },
    {
     "name": "stderr",
     "output_type": "stream",
     "text": [
      "2023-08-11 18:24:40,393 - pyiron_log - WARNING - No HDF5 file found - remove database entry and create new job! FS_slab_111_29\n"
     ]
    },
    {
     "name": "stdout",
     "output_type": "stream",
     "text": [
      "The job FS_slab_111_29 was saved and received the ID: 893\n"
     ]
    },
    {
     "name": "stderr",
     "output_type": "stream",
     "text": [
      "2023-08-11 18:24:41,685 - pyiron_log - WARNING - No HDF5 file found - remove database entry and create new job! bulk_slab_111_30\n",
      "2023-08-11 18:24:41,848 - pyiron_log - WARNING - Job aborted\n",
      "2023-08-11 18:24:41,849 - pyiron_log - WARNING - LAMMPS (28 Mar 2023 - Update 1)\n",
      "Reading data file ...\n",
      "  orthogonal box = (0 0 0) to (4.0048391 6.9365848 34.619625)\n",
      "  1 by 1 by 1 MPI processor grid\n",
      "  reading atoms ...\n",
      "  48 atoms\n",
      "  read_data CPU = 0.000 seconds\n",
      "ERROR on proc 0: Not a valid floating-point number: 'INF' (src/MANYBODY/pair_eam_alloy.cpp:174)\n",
      "Last command: pair_coeff * * FeNiCr.eam.alloy Fe Ni Cr\n",
      "\n",
      "2023-08-11 18:24:41,861 - pyiron_log - WARNING - No HDF5 file found - remove database entry and create new job! bulk_slab_111_31\n"
     ]
    },
    {
     "name": "stdout",
     "output_type": "stream",
     "text": [
      "The job bulk_slab_111_30 was saved and received the ID: 895\n",
      "The job bulk_slab_111_31 was saved and received the ID: 896\n"
     ]
    },
    {
     "name": "stderr",
     "output_type": "stream",
     "text": [
      "2023-08-11 18:24:42,575 - pyiron_log - WARNING - No HDF5 file found - remove database entry and create new job! FS_slab_111_31\n"
     ]
    },
    {
     "name": "stdout",
     "output_type": "stream",
     "text": [
      "The job FS_slab_111_31 was saved and received the ID: 898\n"
     ]
    },
    {
     "name": "stderr",
     "output_type": "stream",
     "text": [
      "2023-08-11 18:24:43,386 - pyiron_log - WARNING - No HDF5 file found - remove database entry and create new job! bulk_slab_111_32\n"
     ]
    },
    {
     "name": "stdout",
     "output_type": "stream",
     "text": [
      "The job bulk_slab_111_32 was saved and received the ID: 900\n"
     ]
    },
    {
     "name": "stderr",
     "output_type": "stream",
     "text": [
      "2023-08-11 18:24:43,982 - pyiron_log - WARNING - No HDF5 file found - remove database entry and create new job! FS_slab_111_32\n"
     ]
    },
    {
     "name": "stdout",
     "output_type": "stream",
     "text": [
      "The job FS_slab_111_32 was saved and received the ID: 902\n"
     ]
    },
    {
     "name": "stderr",
     "output_type": "stream",
     "text": [
      "2023-08-11 18:24:44,652 - pyiron_log - WARNING - No HDF5 file found - remove database entry and create new job! bulk_slab_111_33\n"
     ]
    },
    {
     "name": "stdout",
     "output_type": "stream",
     "text": [
      "The job bulk_slab_111_33 was saved and received the ID: 905\n"
     ]
    },
    {
     "name": "stderr",
     "output_type": "stream",
     "text": [
      "2023-08-11 18:24:45,456 - pyiron_log - WARNING - No HDF5 file found - remove database entry and create new job! FS_slab_111_33\n"
     ]
    },
    {
     "name": "stdout",
     "output_type": "stream",
     "text": [
      "The job FS_slab_111_33 was saved and received the ID: 907\n"
     ]
    },
    {
     "name": "stderr",
     "output_type": "stream",
     "text": [
      "2023-08-11 18:24:46,050 - pyiron_log - WARNING - No HDF5 file found - remove database entry and create new job! bulk_slab_111_34\n"
     ]
    },
    {
     "name": "stdout",
     "output_type": "stream",
     "text": [
      "The job bulk_slab_111_34 was saved and received the ID: 909\n"
     ]
    },
    {
     "name": "stderr",
     "output_type": "stream",
     "text": [
      "2023-08-11 18:25:01,591 - pyiron_log - WARNING - No HDF5 file found - remove database entry and create new job! FS_slab_111_34\n"
     ]
    },
    {
     "name": "stdout",
     "output_type": "stream",
     "text": [
      "The job FS_slab_111_34 was saved and received the ID: 938\n"
     ]
    },
    {
     "name": "stderr",
     "output_type": "stream",
     "text": [
      "2023-08-11 18:25:02,120 - pyiron_log - WARNING - No HDF5 file found - remove database entry and create new job! bulk_slab_111_35\n"
     ]
    },
    {
     "name": "stdout",
     "output_type": "stream",
     "text": [
      "The job bulk_slab_111_35 was saved and received the ID: 940\n"
     ]
    },
    {
     "name": "stderr",
     "output_type": "stream",
     "text": [
      "2023-08-11 18:25:04,082 - pyiron_log - WARNING - No HDF5 file found - remove database entry and create new job! FS_slab_111_35\n"
     ]
    },
    {
     "name": "stdout",
     "output_type": "stream",
     "text": [
      "The job FS_slab_111_35 was saved and received the ID: 944\n"
     ]
    },
    {
     "name": "stderr",
     "output_type": "stream",
     "text": [
      "2023-08-11 18:25:05,795 - pyiron_log - WARNING - No HDF5 file found - remove database entry and create new job! bulk_slab_111_36\n",
      "2023-08-11 18:25:05,992 - pyiron_log - WARNING - Job aborted\n",
      "2023-08-11 18:25:05,993 - pyiron_log - WARNING - LAMMPS (28 Mar 2023 - Update 1)\n",
      "Reading data file ...\n",
      "  orthogonal box = (0 0 0) to (4.0048391 6.9365848 34.619625)\n",
      "  1 by 1 by 1 MPI processor grid\n",
      "  reading atoms ...\n",
      "  48 atoms\n",
      "  read_data CPU = 0.001 seconds\n",
      "ERROR on proc 0: Not a valid floating-point number: 'Infinity' (src/MANYBODY/pair_eam_alloy.cpp:174)\n",
      "Last command: pair_coeff * * eam/alloy FeCrW_d.eam.alloy Fe Cr W\n",
      "\n",
      "2023-08-11 18:25:06,008 - pyiron_log - WARNING - No HDF5 file found - remove database entry and create new job! bulk_slab_111_37\n"
     ]
    },
    {
     "name": "stdout",
     "output_type": "stream",
     "text": [
      "The job bulk_slab_111_36 was saved and received the ID: 946\n",
      "The job bulk_slab_111_37 was saved and received the ID: 947\n"
     ]
    },
    {
     "name": "stderr",
     "output_type": "stream",
     "text": [
      "2023-08-11 18:25:08,325 - pyiron_log - WARNING - No HDF5 file found - remove database entry and create new job! FS_slab_111_37\n"
     ]
    },
    {
     "name": "stdout",
     "output_type": "stream",
     "text": [
      "The job FS_slab_111_37 was saved and received the ID: 953\n"
     ]
    },
    {
     "name": "stderr",
     "output_type": "stream",
     "text": [
      "2023-08-11 18:25:10,725 - pyiron_log - WARNING - No HDF5 file found - remove database entry and create new job! bulk_slab_111_38\n"
     ]
    },
    {
     "name": "stdout",
     "output_type": "stream",
     "text": [
      "The job bulk_slab_111_38 was saved and received the ID: 964\n"
     ]
    },
    {
     "name": "stderr",
     "output_type": "stream",
     "text": [
      "2023-08-11 18:25:11,624 - pyiron_log - WARNING - No HDF5 file found - remove database entry and create new job! FS_slab_111_38\n"
     ]
    },
    {
     "name": "stdout",
     "output_type": "stream",
     "text": [
      "The job FS_slab_111_38 was saved and received the ID: 968\n"
     ]
    },
    {
     "name": "stderr",
     "output_type": "stream",
     "text": [
      "2023-08-11 18:25:12,496 - pyiron_log - WARNING - No HDF5 file found - remove database entry and create new job! bulk_slab_111_39\n"
     ]
    },
    {
     "name": "stdout",
     "output_type": "stream",
     "text": [
      "The job bulk_slab_111_39 was saved and received the ID: 972\n"
     ]
    },
    {
     "name": "stderr",
     "output_type": "stream",
     "text": [
      "2023-08-11 18:25:13,188 - pyiron_log - WARNING - No HDF5 file found - remove database entry and create new job! FS_slab_111_39\n"
     ]
    },
    {
     "name": "stdout",
     "output_type": "stream",
     "text": [
      "The job FS_slab_111_39 was saved and received the ID: 976\n"
     ]
    },
    {
     "name": "stderr",
     "output_type": "stream",
     "text": [
      "2023-08-11 18:25:13,898 - pyiron_log - WARNING - No HDF5 file found - remove database entry and create new job! bulk_slab_111_40\n"
     ]
    },
    {
     "name": "stdout",
     "output_type": "stream",
     "text": [
      "The job bulk_slab_111_40 was saved and received the ID: 980\n"
     ]
    },
    {
     "name": "stderr",
     "output_type": "stream",
     "text": [
      "2023-08-11 18:25:14,514 - pyiron_log - WARNING - No HDF5 file found - remove database entry and create new job! FS_slab_111_40\n"
     ]
    },
    {
     "name": "stdout",
     "output_type": "stream",
     "text": [
      "The job FS_slab_111_40 was saved and received the ID: 982\n"
     ]
    },
    {
     "name": "stderr",
     "output_type": "stream",
     "text": [
      "2023-08-11 18:25:15,138 - pyiron_log - WARNING - No HDF5 file found - remove database entry and create new job! bulk_slab_111_41\n",
      "2023-08-11 18:25:15,447 - pyiron_log - WARNING - Job aborted\n",
      "2023-08-11 18:25:15,448 - pyiron_log - WARNING - LAMMPS (28 Mar 2023 - Update 1)\n",
      "Reading data file ...\n",
      "  orthogonal box = (0 0 0) to (4.0048391 6.9365848 34.619625)\n",
      "  1 by 1 by 1 MPI processor grid\n",
      "  reading atoms ...\n",
      "  48 atoms\n",
      "  read_data CPU = 0.000 seconds\n",
      "ERROR on proc 0: Not a valid integer number: '0.000000' (src/MEAM/pair_meam.cpp:466)\n",
      "Last command: pair_coeff * * Fe3C_library_Liyanage_2014.meam Fe C Fe3C_Liyanage_2014.meam Fe C\n",
      "\n",
      "2023-08-11 18:25:15,461 - pyiron_log - WARNING - No HDF5 file found - remove database entry and create new job! bulk_slab_111_42\n"
     ]
    },
    {
     "name": "stdout",
     "output_type": "stream",
     "text": [
      "The job bulk_slab_111_41 was saved and received the ID: 985\n"
     ]
    },
    {
     "name": "stderr",
     "output_type": "stream",
     "text": [
      "2023-08-11 18:25:15,783 - pyiron_log - WARNING - Job aborted\n",
      "2023-08-11 18:25:15,784 - pyiron_log - WARNING - LAMMPS (28 Mar 2023 - Update 1)\n",
      "Reading data file ...\n",
      "  orthogonal box = (0 0 0) to (4.0048391 6.9365848 34.619625)\n",
      "  1 by 1 by 1 MPI processor grid\n",
      "  reading atoms ...\n",
      "  48 atoms\n",
      "  read_data CPU = 0.000 seconds\n",
      "ERROR on proc 0: Not a valid integer number: '-5.000000' (src/MEAM/pair_meam.cpp:466)\n",
      "Last command: pair_coeff * * library.Fe.meam Fe Fe.meam Fe\n",
      "\n",
      "2023-08-11 18:25:15,825 - pyiron_log - WARNING - No HDF5 file found - remove database entry and create new job! bulk_slab_111_43\n"
     ]
    },
    {
     "name": "stdout",
     "output_type": "stream",
     "text": [
      "The job bulk_slab_111_42 was saved and received the ID: 987\n",
      "The job bulk_slab_111_43 was saved and received the ID: 990\n"
     ]
    },
    {
     "name": "stderr",
     "output_type": "stream",
     "text": [
      "2023-08-11 18:25:17,535 - pyiron_log - WARNING - No HDF5 file found - remove database entry and create new job! FS_slab_111_43\n"
     ]
    },
    {
     "name": "stdout",
     "output_type": "stream",
     "text": [
      "The job FS_slab_111_43 was saved and received the ID: 996\n"
     ]
    },
    {
     "name": "stderr",
     "output_type": "stream",
     "text": [
      "2023-08-11 18:25:19,224 - pyiron_log - WARNING - No HDF5 file found - remove database entry and create new job! bulk_slab_111_44\n"
     ]
    },
    {
     "name": "stdout",
     "output_type": "stream",
     "text": [
      "The job bulk_slab_111_44 was saved and received the ID: 1004\n"
     ]
    },
    {
     "name": "stderr",
     "output_type": "stream",
     "text": [
      "2023-08-11 18:25:20,086 - pyiron_log - WARNING - No HDF5 file found - remove database entry and create new job! FS_slab_111_44\n"
     ]
    },
    {
     "name": "stdout",
     "output_type": "stream",
     "text": [
      "The job FS_slab_111_44 was saved and received the ID: 1009\n"
     ]
    },
    {
     "name": "stderr",
     "output_type": "stream",
     "text": [
      "2023-08-11 18:25:21,155 - pyiron_log - WARNING - No HDF5 file found - remove database entry and create new job! bulk_slab_111_45\n"
     ]
    },
    {
     "name": "stdout",
     "output_type": "stream",
     "text": [
      "The job bulk_slab_111_45 was saved and received the ID: 1013\n"
     ]
    },
    {
     "name": "stderr",
     "output_type": "stream",
     "text": [
      "2023-08-11 18:25:22,589 - pyiron_log - WARNING - No HDF5 file found - remove database entry and create new job! FS_slab_111_45\n"
     ]
    },
    {
     "name": "stdout",
     "output_type": "stream",
     "text": [
      "The job FS_slab_111_45 was saved and received the ID: 1019\n"
     ]
    },
    {
     "name": "stderr",
     "output_type": "stream",
     "text": [
      "2023-08-11 18:25:23,290 - pyiron_log - WARNING - No HDF5 file found - remove database entry and create new job! bulk_slab_111_46\n"
     ]
    },
    {
     "name": "stdout",
     "output_type": "stream",
     "text": [
      "The job bulk_slab_111_46 was saved and received the ID: 1022\n"
     ]
    },
    {
     "name": "stderr",
     "output_type": "stream",
     "text": [
      "2023-08-11 18:25:24,526 - pyiron_log - WARNING - No HDF5 file found - remove database entry and create new job! FS_slab_111_46\n"
     ]
    },
    {
     "name": "stdout",
     "output_type": "stream",
     "text": [
      "The job FS_slab_111_46 was saved and received the ID: 1027\n"
     ]
    },
    {
     "name": "stderr",
     "output_type": "stream",
     "text": [
      "2023-08-11 18:25:25,215 - pyiron_log - WARNING - No HDF5 file found - remove database entry and create new job! bulk_slab_111_47\n"
     ]
    },
    {
     "name": "stdout",
     "output_type": "stream",
     "text": [
      "The job bulk_slab_111_47 was saved and received the ID: 1030\n"
     ]
    },
    {
     "name": "stderr",
     "output_type": "stream",
     "text": [
      "2023-08-11 18:25:26,330 - pyiron_log - WARNING - No HDF5 file found - remove database entry and create new job! FS_slab_111_47\n"
     ]
    },
    {
     "name": "stdout",
     "output_type": "stream",
     "text": [
      "The job FS_slab_111_47 was saved and received the ID: 1031\n"
     ]
    },
    {
     "name": "stderr",
     "output_type": "stream",
     "text": [
      "2023-08-11 18:25:26,852 - pyiron_log - WARNING - No HDF5 file found - remove database entry and create new job! bulk_slab_111_48\n"
     ]
    },
    {
     "name": "stdout",
     "output_type": "stream",
     "text": [
      "The job bulk_slab_111_48 was saved and received the ID: 1032\n"
     ]
    },
    {
     "name": "stderr",
     "output_type": "stream",
     "text": [
      "2023-08-11 18:25:40,504 - pyiron_log - WARNING - No HDF5 file found - remove database entry and create new job! FS_slab_111_48\n"
     ]
    },
    {
     "name": "stdout",
     "output_type": "stream",
     "text": [
      "The job FS_slab_111_48 was saved and received the ID: 1033\n"
     ]
    },
    {
     "name": "stderr",
     "output_type": "stream",
     "text": [
      "2023-08-11 18:25:40,946 - pyiron_log - WARNING - No HDF5 file found - remove database entry and create new job! bulk_slab_111_49\n",
      "2023-08-11 18:25:41,124 - pyiron_log - WARNING - Job aborted\n",
      "2023-08-11 18:25:41,125 - pyiron_log - WARNING - LAMMPS (28 Mar 2023 - Update 1)\n",
      "Reading data file ...\n",
      "  orthogonal box = (0 0 0) to (4.0048391 6.9365848 34.619625)\n",
      "  1 by 1 by 1 MPI processor grid\n",
      "  reading atoms ...\n",
      "  48 atoms\n",
      "  read_data CPU = 0.000 seconds\n",
      "ERROR on proc 0: Not a valid integer number: '-5.000000' (src/MEAM/pair_meam.cpp:466)\n",
      "Last command: pair_coeff * * library.Fe.meam Fe Fe.meam Fe\n",
      "\n",
      "2023-08-11 18:25:41,136 - pyiron_log - WARNING - No HDF5 file found - remove database entry and create new job! bulk_slab_111_50\n"
     ]
    },
    {
     "name": "stdout",
     "output_type": "stream",
     "text": [
      "The job bulk_slab_111_49 was saved and received the ID: 1034\n",
      "The job bulk_slab_111_50 was saved and received the ID: 1035\n"
     ]
    },
    {
     "name": "stderr",
     "output_type": "stream",
     "text": [
      "2023-08-11 18:25:41,674 - pyiron_log - WARNING - No HDF5 file found - remove database entry and create new job! FS_slab_111_50\n"
     ]
    },
    {
     "name": "stdout",
     "output_type": "stream",
     "text": [
      "The job FS_slab_111_50 was saved and received the ID: 1036\n"
     ]
    },
    {
     "name": "stderr",
     "output_type": "stream",
     "text": [
      "2023-08-11 18:25:42,195 - pyiron_log - WARNING - No HDF5 file found - remove database entry and create new job! bulk_slab_111_51\n"
     ]
    },
    {
     "name": "stdout",
     "output_type": "stream",
     "text": [
      "The job bulk_slab_111_51 was saved and received the ID: 1037\n"
     ]
    },
    {
     "name": "stderr",
     "output_type": "stream",
     "text": [
      "2023-08-11 18:25:55,488 - pyiron_log - WARNING - No HDF5 file found - remove database entry and create new job! FS_slab_111_51\n"
     ]
    },
    {
     "name": "stdout",
     "output_type": "stream",
     "text": [
      "The job FS_slab_111_51 was saved and received the ID: 1038\n"
     ]
    },
    {
     "name": "stderr",
     "output_type": "stream",
     "text": [
      "2023-08-11 18:25:55,942 - pyiron_log - WARNING - No HDF5 file found - remove database entry and create new job! bulk_slab_111_52\n"
     ]
    },
    {
     "name": "stdout",
     "output_type": "stream",
     "text": [
      "The job bulk_slab_111_52 was saved and received the ID: 1039\n"
     ]
    },
    {
     "name": "stderr",
     "output_type": "stream",
     "text": [
      "2023-08-11 18:25:56,523 - pyiron_log - WARNING - No HDF5 file found - remove database entry and create new job! FS_slab_111_52\n"
     ]
    },
    {
     "name": "stdout",
     "output_type": "stream",
     "text": [
      "The job FS_slab_111_52 was saved and received the ID: 1040\n"
     ]
    },
    {
     "name": "stderr",
     "output_type": "stream",
     "text": [
      "2023-08-11 18:25:57,095 - pyiron_log - WARNING - No HDF5 file found - remove database entry and create new job! bulk_slab_111_53\n"
     ]
    },
    {
     "name": "stdout",
     "output_type": "stream",
     "text": [
      "The job bulk_slab_111_53 was saved and received the ID: 1041\n"
     ]
    },
    {
     "name": "stderr",
     "output_type": "stream",
     "text": [
      "2023-08-11 18:25:57,737 - pyiron_log - WARNING - No HDF5 file found - remove database entry and create new job! FS_slab_111_53\n"
     ]
    },
    {
     "name": "stdout",
     "output_type": "stream",
     "text": [
      "The job FS_slab_111_53 was saved and received the ID: 1042\n"
     ]
    },
    {
     "name": "stderr",
     "output_type": "stream",
     "text": [
      "2023-08-11 18:25:58,416 - pyiron_log - WARNING - No HDF5 file found - remove database entry and create new job! bulk_slab_111_54\n"
     ]
    },
    {
     "name": "stdout",
     "output_type": "stream",
     "text": [
      "The job bulk_slab_111_54 was saved and received the ID: 1043\n"
     ]
    },
    {
     "name": "stderr",
     "output_type": "stream",
     "text": [
      "2023-08-11 18:26:11,099 - pyiron_log - WARNING - No HDF5 file found - remove database entry and create new job! FS_slab_111_54\n"
     ]
    },
    {
     "name": "stdout",
     "output_type": "stream",
     "text": [
      "The job FS_slab_111_54 was saved and received the ID: 1044\n"
     ]
    },
    {
     "name": "stderr",
     "output_type": "stream",
     "text": [
      "2023-08-11 18:26:11,671 - pyiron_log - WARNING - No HDF5 file found - remove database entry and create new job! bulk_slab_111_55\n"
     ]
    },
    {
     "name": "stdout",
     "output_type": "stream",
     "text": [
      "The job bulk_slab_111_55 was saved and received the ID: 1045\n"
     ]
    },
    {
     "name": "stderr",
     "output_type": "stream",
     "text": [
      "2023-08-11 18:26:12,086 - pyiron_log - WARNING - No HDF5 file found - remove database entry and create new job! FS_slab_111_55\n"
     ]
    },
    {
     "name": "stdout",
     "output_type": "stream",
     "text": [
      "The job FS_slab_111_55 was saved and received the ID: 1046\n"
     ]
    },
    {
     "name": "stderr",
     "output_type": "stream",
     "text": [
      "2023-08-11 18:26:12,474 - pyiron_log - WARNING - No HDF5 file found - remove database entry and create new job! bulk_slab_111_56\n"
     ]
    },
    {
     "name": "stdout",
     "output_type": "stream",
     "text": [
      "The job bulk_slab_111_56 was saved and received the ID: 1047\n"
     ]
    },
    {
     "name": "stderr",
     "output_type": "stream",
     "text": [
      "2023-08-11 18:26:13,282 - pyiron_log - WARNING - No HDF5 file found - remove database entry and create new job! FS_slab_111_56\n"
     ]
    },
    {
     "name": "stdout",
     "output_type": "stream",
     "text": [
      "The job FS_slab_111_56 was saved and received the ID: 1048\n"
     ]
    },
    {
     "name": "stderr",
     "output_type": "stream",
     "text": [
      "2023-08-11 18:26:14,044 - pyiron_log - WARNING - No HDF5 file found - remove database entry and create new job! bulk_slab_111_57\n"
     ]
    },
    {
     "name": "stdout",
     "output_type": "stream",
     "text": [
      "The job bulk_slab_111_57 was saved and received the ID: 1049\n"
     ]
    },
    {
     "name": "stderr",
     "output_type": "stream",
     "text": [
      "2023-08-11 18:26:14,389 - pyiron_log - WARNING - No HDF5 file found - remove database entry and create new job! FS_slab_111_57\n"
     ]
    },
    {
     "name": "stdout",
     "output_type": "stream",
     "text": [
      "The job FS_slab_111_57 was saved and received the ID: 1050\n"
     ]
    },
    {
     "name": "stderr",
     "output_type": "stream",
     "text": [
      "2023-08-11 18:26:14,802 - pyiron_log - WARNING - No HDF5 file found - remove database entry and create new job! bulk_slab_111_58\n"
     ]
    },
    {
     "name": "stdout",
     "output_type": "stream",
     "text": [
      "The job bulk_slab_111_58 was saved and received the ID: 1051\n"
     ]
    },
    {
     "name": "stderr",
     "output_type": "stream",
     "text": [
      "2023-08-11 18:26:15,357 - pyiron_log - WARNING - No HDF5 file found - remove database entry and create new job! FS_slab_111_58\n"
     ]
    },
    {
     "name": "stdout",
     "output_type": "stream",
     "text": [
      "The job FS_slab_111_58 was saved and received the ID: 1052\n"
     ]
    },
    {
     "name": "stderr",
     "output_type": "stream",
     "text": [
      "2023-08-11 18:26:15,850 - pyiron_log - WARNING - No HDF5 file found - remove database entry and create new job! bulk_slab_111_59\n"
     ]
    },
    {
     "name": "stdout",
     "output_type": "stream",
     "text": [
      "The job bulk_slab_111_59 was saved and received the ID: 1053\n"
     ]
    },
    {
     "name": "stderr",
     "output_type": "stream",
     "text": [
      "2023-08-11 18:26:17,013 - pyiron_log - WARNING - No HDF5 file found - remove database entry and create new job! FS_slab_111_59\n"
     ]
    },
    {
     "name": "stdout",
     "output_type": "stream",
     "text": [
      "The job FS_slab_111_59 was saved and received the ID: 1054\n"
     ]
    },
    {
     "name": "stderr",
     "output_type": "stream",
     "text": [
      "2023-08-11 18:26:18,210 - pyiron_log - WARNING - No HDF5 file found - remove database entry and create new job! bulk_slab_111_60\n",
      "2023-08-11 18:26:18,384 - pyiron_log - WARNING - No HDF5 file found - remove database entry and create new job! bulk_slab_111_61\n"
     ]
    },
    {
     "name": "stdout",
     "output_type": "stream",
     "text": [
      "The job bulk_slab_111_61 was saved and received the ID: 1056\n"
     ]
    },
    {
     "name": "stderr",
     "output_type": "stream",
     "text": [
      "2023-08-11 18:26:18,926 - pyiron_log - WARNING - No HDF5 file found - remove database entry and create new job! FS_slab_111_61\n"
     ]
    },
    {
     "name": "stdout",
     "output_type": "stream",
     "text": [
      "The job FS_slab_111_61 was saved and received the ID: 1057\n"
     ]
    },
    {
     "name": "stderr",
     "output_type": "stream",
     "text": [
      "2023-08-11 18:26:19,405 - pyiron_log - WARNING - No HDF5 file found - remove database entry and create new job! bulk_slab_111_62\n"
     ]
    },
    {
     "name": "stdout",
     "output_type": "stream",
     "text": [
      "The job bulk_slab_111_62 was saved and received the ID: 1058\n"
     ]
    },
    {
     "name": "stderr",
     "output_type": "stream",
     "text": [
      "2023-08-11 18:26:20,161 - pyiron_log - WARNING - No HDF5 file found - remove database entry and create new job! FS_slab_111_62\n"
     ]
    },
    {
     "name": "stdout",
     "output_type": "stream",
     "text": [
      "The job FS_slab_111_62 was saved and received the ID: 1059\n"
     ]
    },
    {
     "name": "stderr",
     "output_type": "stream",
     "text": [
      "2023-08-11 18:26:20,785 - pyiron_log - WARNING - No HDF5 file found - remove database entry and create new job! bulk_slab_111_63\n"
     ]
    },
    {
     "name": "stdout",
     "output_type": "stream",
     "text": [
      "The job bulk_slab_111_63 was saved and received the ID: 1060\n"
     ]
    },
    {
     "name": "stderr",
     "output_type": "stream",
     "text": [
      "2023-08-11 18:26:21,447 - pyiron_log - WARNING - No HDF5 file found - remove database entry and create new job! FS_slab_111_63\n"
     ]
    },
    {
     "name": "stdout",
     "output_type": "stream",
     "text": [
      "The job FS_slab_111_63 was saved and received the ID: 1061\n"
     ]
    },
    {
     "name": "stderr",
     "output_type": "stream",
     "text": [
      "2023-08-11 18:26:21,933 - pyiron_log - WARNING - No HDF5 file found - remove database entry and create new job! bulk_slab_111_64\n"
     ]
    },
    {
     "name": "stdout",
     "output_type": "stream",
     "text": [
      "The job bulk_slab_111_64 was saved and received the ID: 1062\n"
     ]
    },
    {
     "name": "stderr",
     "output_type": "stream",
     "text": [
      "2023-08-11 18:26:22,710 - pyiron_log - WARNING - No HDF5 file found - remove database entry and create new job! FS_slab_111_64\n"
     ]
    },
    {
     "name": "stdout",
     "output_type": "stream",
     "text": [
      "The job FS_slab_111_64 was saved and received the ID: 1063\n"
     ]
    },
    {
     "name": "stderr",
     "output_type": "stream",
     "text": [
      "2023-08-11 18:26:23,472 - pyiron_log - WARNING - No HDF5 file found - remove database entry and create new job! bulk_slab_111_65\n"
     ]
    },
    {
     "name": "stdout",
     "output_type": "stream",
     "text": [
      "The job bulk_slab_111_65 was saved and received the ID: 1064\n"
     ]
    },
    {
     "name": "stderr",
     "output_type": "stream",
     "text": [
      "2023-08-11 18:26:24,086 - pyiron_log - WARNING - No HDF5 file found - remove database entry and create new job! FS_slab_111_65\n"
     ]
    },
    {
     "name": "stdout",
     "output_type": "stream",
     "text": [
      "The job FS_slab_111_65 was saved and received the ID: 1065\n"
     ]
    },
    {
     "name": "stderr",
     "output_type": "stream",
     "text": [
      "2023-08-11 18:26:24,525 - pyiron_log - WARNING - No HDF5 file found - remove database entry and create new job! bulk_slab_111_66\n"
     ]
    },
    {
     "name": "stdout",
     "output_type": "stream",
     "text": [
      "The job bulk_slab_111_66 was saved and received the ID: 1066\n"
     ]
    },
    {
     "name": "stderr",
     "output_type": "stream",
     "text": [
      "2023-08-11 18:26:25,006 - pyiron_log - WARNING - No HDF5 file found - remove database entry and create new job! FS_slab_111_66\n"
     ]
    },
    {
     "name": "stdout",
     "output_type": "stream",
     "text": [
      "The job FS_slab_111_66 was saved and received the ID: 1067\n"
     ]
    },
    {
     "name": "stderr",
     "output_type": "stream",
     "text": [
      "2023-08-11 18:26:25,438 - pyiron_log - WARNING - No HDF5 file found - remove database entry and create new job! bulk_slab_111_67\n"
     ]
    },
    {
     "name": "stdout",
     "output_type": "stream",
     "text": [
      "The job bulk_slab_111_67 was saved and received the ID: 1068\n"
     ]
    },
    {
     "name": "stderr",
     "output_type": "stream",
     "text": [
      "2023-08-11 18:26:25,975 - pyiron_log - WARNING - No HDF5 file found - remove database entry and create new job! FS_slab_111_67\n"
     ]
    },
    {
     "name": "stdout",
     "output_type": "stream",
     "text": [
      "The job FS_slab_111_67 was saved and received the ID: 1069\n"
     ]
    },
    {
     "name": "stderr",
     "output_type": "stream",
     "text": [
      "2023-08-11 18:26:26,477 - pyiron_log - WARNING - No HDF5 file found - remove database entry and create new job! bulk_slab_111_68\n",
      "2023-08-11 18:26:26,629 - pyiron_log - WARNING - Job aborted\n",
      "2023-08-11 18:26:26,631 - pyiron_log - WARNING - LAMMPS (28 Mar 2023 - Update 1)\n",
      "Reading data file ...\n",
      "  orthogonal box = (0 0 0) to (4.0048391 6.9365848 34.619625)\n",
      "  1 by 1 by 1 MPI processor grid\n",
      "  reading atoms ...\n",
      "  48 atoms\n",
      "  read_data CPU = 0.001 seconds\n",
      "ERROR: KIM ModelCreate failed (src/KIM/pair_kim.cpp:828)\n",
      "Last command: pair_style kim EAM_Dynamo_AcklandBaconCalder_1997_Fe__MO_142799717516_005\n",
      "\n",
      "2023-08-11 18:26:26,644 - pyiron_log - WARNING - No HDF5 file found - remove database entry and create new job! bulk_slab_111_69\n",
      "2023-08-11 18:26:26,792 - pyiron_log - WARNING - Job aborted\n",
      "2023-08-11 18:26:26,793 - pyiron_log - WARNING - LAMMPS (28 Mar 2023 - Update 1)\n",
      "Reading data file ...\n",
      "  orthogonal box = (0 0 0) to (4.0048391 6.9365848 34.619625)\n",
      "  1 by 1 by 1 MPI processor grid\n",
      "  reading atoms ...\n",
      "  48 atoms\n",
      "  read_data CPU = 0.000 seconds\n",
      "ERROR: KIM ModelCreate failed (src/KIM/pair_kim.cpp:828)\n",
      "Last command: pair_style kim EAM_Dynamo_AcklandMendelevSrolovitz_2004_FeP__MO_884343146310_005\n",
      "\n"
     ]
    },
    {
     "name": "stdout",
     "output_type": "stream",
     "text": [
      "The job bulk_slab_111_68 was saved and received the ID: 1070\n",
      "The job bulk_slab_111_69 was saved and received the ID: 1071\n"
     ]
    },
    {
     "name": "stderr",
     "output_type": "stream",
     "text": [
      "2023-08-11 18:26:26,806 - pyiron_log - WARNING - No HDF5 file found - remove database entry and create new job! bulk_slab_111_70\n",
      "2023-08-11 18:26:26,962 - pyiron_log - WARNING - Job aborted\n",
      "2023-08-11 18:26:26,963 - pyiron_log - WARNING - LAMMPS (28 Mar 2023 - Update 1)\n",
      "Reading data file ...\n",
      "  orthogonal box = (0 0 0) to (4.0048391 6.9365848 34.619625)\n",
      "  1 by 1 by 1 MPI processor grid\n",
      "  reading atoms ...\n",
      "  48 atoms\n",
      "  read_data CPU = 0.000 seconds\n",
      "ERROR: KIM ModelCreate failed (src/KIM/pair_kim.cpp:828)\n",
      "Last command: pair_style kim EAM_Dynamo_BonnyCastinBullens_2013_FeW__MO_737567242631_000\n",
      "\n",
      "2023-08-11 18:26:26,978 - pyiron_log - WARNING - No HDF5 file found - remove database entry and create new job! bulk_slab_111_71\n"
     ]
    },
    {
     "name": "stdout",
     "output_type": "stream",
     "text": [
      "The job bulk_slab_111_70 was saved and received the ID: 1072\n",
      "The job bulk_slab_111_71 was saved and received the ID: 1073\n"
     ]
    },
    {
     "name": "stderr",
     "output_type": "stream",
     "text": [
      "2023-08-11 18:26:27,138 - pyiron_log - WARNING - Job aborted\n",
      "2023-08-11 18:26:27,140 - pyiron_log - WARNING - LAMMPS (28 Mar 2023 - Update 1)\n",
      "Reading data file ...\n",
      "  orthogonal box = (0 0 0) to (4.0048391 6.9365848 34.619625)\n",
      "  1 by 1 by 1 MPI processor grid\n",
      "  reading atoms ...\n",
      "  48 atoms\n",
      "  read_data CPU = 0.000 seconds\n",
      "ERROR: KIM ModelCreate failed (src/KIM/pair_kim.cpp:828)\n",
      "Last command: pair_style kim EAM_Dynamo_BonnyCastinTerentyev_2013_FeNiCr__MO_763197941039_000\n",
      "\n",
      "2023-08-11 18:26:27,151 - pyiron_log - WARNING - No HDF5 file found - remove database entry and create new job! bulk_slab_111_72\n",
      "2023-08-11 18:26:27,310 - pyiron_log - WARNING - Job aborted\n",
      "2023-08-11 18:26:27,311 - pyiron_log - WARNING - LAMMPS (28 Mar 2023 - Update 1)\n",
      "Reading data file ...\n",
      "  orthogonal box = (0 0 0) to (4.0048391 6.9365848 34.619625)\n",
      "  1 by 1 by 1 MPI processor grid\n",
      "  reading atoms ...\n",
      "  48 atoms\n",
      "  read_data CPU = 0.001 seconds\n",
      "ERROR: KIM ModelCreate failed (src/KIM/pair_kim.cpp:828)\n",
      "Last command: pair_style kim EAM_Dynamo_BonnyPasianotCastin_2009_FeCuNi__MO_469343973171_005\n",
      "\n",
      "2023-08-11 18:26:27,324 - pyiron_log - WARNING - No HDF5 file found - remove database entry and create new job! bulk_slab_111_73\n"
     ]
    },
    {
     "name": "stdout",
     "output_type": "stream",
     "text": [
      "The job bulk_slab_111_72 was saved and received the ID: 1074\n",
      "The job bulk_slab_111_73 was saved and received the ID: 1075\n"
     ]
    },
    {
     "name": "stderr",
     "output_type": "stream",
     "text": [
      "2023-08-11 18:26:27,483 - pyiron_log - WARNING - Job aborted\n",
      "2023-08-11 18:26:27,484 - pyiron_log - WARNING - LAMMPS (28 Mar 2023 - Update 1)\n",
      "Reading data file ...\n",
      "  orthogonal box = (0 0 0) to (4.0048391 6.9365848 34.619625)\n",
      "  1 by 1 by 1 MPI processor grid\n",
      "  reading atoms ...\n",
      "  48 atoms\n",
      "  read_data CPU = 0.000 seconds\n",
      "ERROR: KIM ModelCreate failed (src/KIM/pair_kim.cpp:828)\n",
      "Last command: pair_style kim EAM_Dynamo_BonnyPasianotMalerba_2009_FeNi__MO_267721408934_005\n",
      "\n",
      "2023-08-11 18:26:27,496 - pyiron_log - WARNING - No HDF5 file found - remove database entry and create new job! bulk_slab_111_74\n",
      "2023-08-11 18:26:27,667 - pyiron_log - WARNING - Job aborted\n",
      "2023-08-11 18:26:27,669 - pyiron_log - WARNING - LAMMPS (28 Mar 2023 - Update 1)\n",
      "Reading data file ...\n",
      "  orthogonal box = (0 0 0) to (4.0048391 6.9365848 34.619625)\n",
      "  1 by 1 by 1 MPI processor grid\n",
      "  reading atoms ...\n",
      "  48 atoms\n",
      "  read_data CPU = 0.000 seconds\n",
      "ERROR: KIM ModelCreate failed (src/KIM/pair_kim.cpp:828)\n",
      "Last command: pair_style kim EAM_Dynamo_ChamatiPapanicolaouMishin_2006_Fe__MO_960699513424_000\n",
      "\n",
      "2023-08-11 18:26:27,681 - pyiron_log - WARNING - No HDF5 file found - remove database entry and create new job! bulk_slab_111_75\n"
     ]
    },
    {
     "name": "stdout",
     "output_type": "stream",
     "text": [
      "The job bulk_slab_111_74 was saved and received the ID: 1076\n",
      "The job bulk_slab_111_75 was saved and received the ID: 1077\n"
     ]
    },
    {
     "name": "stderr",
     "output_type": "stream",
     "text": [
      "2023-08-11 18:26:27,851 - pyiron_log - WARNING - Job aborted\n",
      "2023-08-11 18:26:27,852 - pyiron_log - WARNING - LAMMPS (28 Mar 2023 - Update 1)\n",
      "Reading data file ...\n",
      "  orthogonal box = (0 0 0) to (4.0048391 6.9365848 34.619625)\n",
      "  1 by 1 by 1 MPI processor grid\n",
      "  reading atoms ...\n",
      "  48 atoms\n",
      "  read_data CPU = 0.000 seconds\n",
      "ERROR: KIM ModelCreate failed (src/KIM/pair_kim.cpp:828)\n",
      "Last command: pair_style kim EAM_Dynamo_HepburnAckland_2008_FeC__MO_143977152728_005\n",
      "\n",
      "2023-08-11 18:26:27,863 - pyiron_log - WARNING - No HDF5 file found - remove database entry and create new job! bulk_slab_111_76\n",
      "2023-08-11 18:26:28,021 - pyiron_log - WARNING - Job aborted\n",
      "2023-08-11 18:26:28,022 - pyiron_log - WARNING - LAMMPS (28 Mar 2023 - Update 1)\n",
      "Reading data file ...\n",
      "  orthogonal box = (0 0 0) to (4.0048391 6.9365848 34.619625)\n",
      "  1 by 1 by 1 MPI processor grid\n",
      "  reading atoms ...\n",
      "  48 atoms\n",
      "  read_data CPU = 0.000 seconds\n",
      "ERROR: KIM ModelCreate failed (src/KIM/pair_kim.cpp:828)\n",
      "Last command: pair_style kim EAM_Dynamo_Marinica_2007_Fe__MO_466808877130_000\n",
      "\n",
      "2023-08-11 18:26:28,034 - pyiron_log - WARNING - No HDF5 file found - remove database entry and create new job! bulk_slab_111_77\n"
     ]
    },
    {
     "name": "stdout",
     "output_type": "stream",
     "text": [
      "The job bulk_slab_111_76 was saved and received the ID: 1078\n",
      "The job bulk_slab_111_77 was saved and received the ID: 1079\n"
     ]
    },
    {
     "name": "stderr",
     "output_type": "stream",
     "text": [
      "2023-08-11 18:26:28,205 - pyiron_log - WARNING - Job aborted\n",
      "2023-08-11 18:26:28,207 - pyiron_log - WARNING - LAMMPS (28 Mar 2023 - Update 1)\n",
      "Reading data file ...\n",
      "  orthogonal box = (0 0 0) to (4.0048391 6.9365848 34.619625)\n",
      "  1 by 1 by 1 MPI processor grid\n",
      "  reading atoms ...\n",
      "  48 atoms\n",
      "  read_data CPU = 0.000 seconds\n",
      "ERROR: KIM ModelCreate failed (src/KIM/pair_kim.cpp:828)\n",
      "Last command: pair_style kim EAM_Dynamo_Marinica_2011_Fe__MO_255315407910_000\n",
      "\n",
      "2023-08-11 18:26:28,218 - pyiron_log - WARNING - No HDF5 file found - remove database entry and create new job! bulk_slab_111_78\n",
      "2023-08-11 18:26:28,390 - pyiron_log - WARNING - Job aborted\n",
      "2023-08-11 18:26:28,391 - pyiron_log - WARNING - LAMMPS (28 Mar 2023 - Update 1)\n",
      "Reading data file ...\n",
      "  orthogonal box = (0 0 0) to (4.0048391 6.9365848 34.619625)\n",
      "  1 by 1 by 1 MPI processor grid\n",
      "  reading atoms ...\n",
      "  48 atoms\n",
      "  read_data CPU = 0.000 seconds\n",
      "ERROR: KIM ModelCreate failed (src/KIM/pair_kim.cpp:828)\n",
      "Last command: pair_style kim EAM_Dynamo_MendelevBorovikov_2020_FeNiCr__MO_922363340570_000\n",
      "\n",
      "2023-08-11 18:26:28,403 - pyiron_log - WARNING - No HDF5 file found - remove database entry and create new job! bulk_slab_111_79\n"
     ]
    },
    {
     "name": "stdout",
     "output_type": "stream",
     "text": [
      "The job bulk_slab_111_78 was saved and received the ID: 1080\n",
      "The job bulk_slab_111_79 was saved and received the ID: 1081\n"
     ]
    },
    {
     "name": "stderr",
     "output_type": "stream",
     "text": [
      "2023-08-11 18:26:28,564 - pyiron_log - WARNING - Job aborted\n",
      "2023-08-11 18:26:28,565 - pyiron_log - WARNING - LAMMPS (28 Mar 2023 - Update 1)\n",
      "Reading data file ...\n",
      "  orthogonal box = (0 0 0) to (4.0048391 6.9365848 34.619625)\n",
      "  1 by 1 by 1 MPI processor grid\n",
      "  reading atoms ...\n",
      "  48 atoms\n",
      "  read_data CPU = 0.000 seconds\n",
      "ERROR: KIM ModelCreate failed (src/KIM/pair_kim.cpp:828)\n",
      "Last command: pair_style kim EAM_Dynamo_MendelevHanSon_2007_VFe__MO_249706810527_005\n",
      "\n",
      "2023-08-11 18:26:28,576 - pyiron_log - WARNING - No HDF5 file found - remove database entry and create new job! bulk_slab_111_80\n",
      "2023-08-11 18:26:28,758 - pyiron_log - WARNING - Job aborted\n",
      "2023-08-11 18:26:28,759 - pyiron_log - WARNING - LAMMPS (28 Mar 2023 - Update 1)\n",
      "Reading data file ...\n",
      "  orthogonal box = (0 0 0) to (4.0048391 6.9365848 34.619625)\n",
      "  1 by 1 by 1 MPI processor grid\n",
      "  reading atoms ...\n",
      "  48 atoms\n",
      "  read_data CPU = 0.000 seconds\n",
      "ERROR: KIM ModelCreate failed (src/KIM/pair_kim.cpp:828)\n",
      "Last command: pair_style kim EAM_Dynamo_MendelevHanSrolovitz_2003Potential2_Fe__MO_769582363439_005\n",
      "\n",
      "2023-08-11 18:26:28,770 - pyiron_log - WARNING - No HDF5 file found - remove database entry and create new job! bulk_slab_111_81\n"
     ]
    },
    {
     "name": "stdout",
     "output_type": "stream",
     "text": [
      "The job bulk_slab_111_80 was saved and received the ID: 1082\n",
      "The job bulk_slab_111_81 was saved and received the ID: 1083\n"
     ]
    },
    {
     "name": "stderr",
     "output_type": "stream",
     "text": [
      "2023-08-11 18:26:28,932 - pyiron_log - WARNING - Job aborted\n",
      "2023-08-11 18:26:28,933 - pyiron_log - WARNING - LAMMPS (28 Mar 2023 - Update 1)\n",
      "Reading data file ...\n",
      "  orthogonal box = (0 0 0) to (4.0048391 6.9365848 34.619625)\n",
      "  1 by 1 by 1 MPI processor grid\n",
      "  reading atoms ...\n",
      "  48 atoms\n",
      "  read_data CPU = 0.000 seconds\n",
      "ERROR: KIM ModelCreate failed (src/KIM/pair_kim.cpp:828)\n",
      "Last command: pair_style kim EAM_Dynamo_MendelevHanSrolovitz_2003Potential5_Fe__MO_942420706858_005\n",
      "\n",
      "2023-08-11 18:26:28,946 - pyiron_log - WARNING - No HDF5 file found - remove database entry and create new job! bulk_slab_111_82\n",
      "2023-08-11 18:26:29,111 - pyiron_log - WARNING - Job aborted\n",
      "2023-08-11 18:26:29,111 - pyiron_log - WARNING - LAMMPS (28 Mar 2023 - Update 1)\n",
      "Reading data file ...\n",
      "  orthogonal box = (0 0 0) to (4.0048391 6.9365848 34.619625)\n",
      "  1 by 1 by 1 MPI processor grid\n",
      "  reading atoms ...\n",
      "  48 atoms\n",
      "  read_data CPU = 0.001 seconds\n",
      "ERROR: KIM ModelCreate failed (src/KIM/pair_kim.cpp:828)\n",
      "Last command: pair_style kim EAM_Dynamo_MendelevHanSrolovitz_2003_Fe__MO_807997826449_000\n",
      "\n",
      "2023-08-11 18:26:29,124 - pyiron_log - WARNING - No HDF5 file found - remove database entry and create new job! bulk_slab_111_83\n",
      "2023-08-11 18:26:29,278 - pyiron_log - WARNING - Job aborted\n",
      "2023-08-11 18:26:29,279 - pyiron_log - WARNING - LAMMPS (28 Mar 2023 - Update 1)\n",
      "Reading data file ...\n",
      "  orthogonal box = (0 0 0) to (4.0048391 6.9365848 34.619625)\n",
      "  1 by 1 by 1 MPI processor grid\n",
      "  reading atoms ...\n",
      "  48 atoms\n",
      "  read_data CPU = 0.000 seconds\n",
      "ERROR: KIM ModelCreate failed (src/KIM/pair_kim.cpp:828)\n",
      "Last command: pair_style kim EAM_Dynamo_MendelevSrolovitzAckland_2005_AlFe__MO_577453891941_005\n",
      "\n"
     ]
    },
    {
     "name": "stdout",
     "output_type": "stream",
     "text": [
      "The job bulk_slab_111_82 was saved and received the ID: 1084\n",
      "The job bulk_slab_111_83 was saved and received the ID: 1085\n"
     ]
    },
    {
     "name": "stderr",
     "output_type": "stream",
     "text": [
      "2023-08-11 18:26:29,289 - pyiron_log - WARNING - No HDF5 file found - remove database entry and create new job! bulk_slab_111_84\n",
      "2023-08-11 18:26:29,452 - pyiron_log - WARNING - Job aborted\n",
      "2023-08-11 18:26:29,453 - pyiron_log - WARNING - LAMMPS (28 Mar 2023 - Update 1)\n",
      "Reading data file ...\n",
      "  orthogonal box = (0 0 0) to (4.0048391 6.9365848 34.619625)\n",
      "  1 by 1 by 1 MPI processor grid\n",
      "  reading atoms ...\n",
      "  48 atoms\n",
      "  read_data CPU = 0.000 seconds\n",
      "ERROR: KIM ModelCreate failed (src/KIM/pair_kim.cpp:828)\n",
      "Last command: pair_style kim EAM_Dynamo_Mendelev_2003_Fe__MO_546673549085_000\n",
      "\n",
      "2023-08-11 18:26:29,464 - pyiron_log - WARNING - No HDF5 file found - remove database entry and create new job! bulk_slab_111_85\n"
     ]
    },
    {
     "name": "stdout",
     "output_type": "stream",
     "text": [
      "The job bulk_slab_111_84 was saved and received the ID: 1086\n",
      "The job bulk_slab_111_85 was saved and received the ID: 1087\n"
     ]
    },
    {
     "name": "stderr",
     "output_type": "stream",
     "text": [
      "2023-08-11 18:26:29,624 - pyiron_log - WARNING - Job aborted\n",
      "2023-08-11 18:26:29,625 - pyiron_log - WARNING - LAMMPS (28 Mar 2023 - Update 1)\n",
      "Reading data file ...\n",
      "  orthogonal box = (0 0 0) to (4.0048391 6.9365848 34.619625)\n",
      "  1 by 1 by 1 MPI processor grid\n",
      "  reading atoms ...\n",
      "  48 atoms\n",
      "  read_data CPU = 0.000 seconds\n",
      "ERROR: KIM ModelCreate failed (src/KIM/pair_kim.cpp:828)\n",
      "Last command: pair_style kim EAM_Dynamo_ZhouJohnsonWadley_2004NISTretabulation_Fe__MO_681088298208_000\n",
      "\n",
      "2023-08-11 18:26:29,638 - pyiron_log - WARNING - No HDF5 file found - remove database entry and create new job! bulk_slab_111_86\n",
      "2023-08-11 18:26:29,815 - pyiron_log - WARNING - Job aborted\n",
      "2023-08-11 18:26:29,815 - pyiron_log - WARNING - LAMMPS (28 Mar 2023 - Update 1)\n",
      "Reading data file ...\n",
      "  orthogonal box = (0 0 0) to (4.0048391 6.9365848 34.619625)\n",
      "  1 by 1 by 1 MPI processor grid\n",
      "  reading atoms ...\n",
      "  48 atoms\n",
      "  read_data CPU = 0.000 seconds\n",
      "ERROR: KIM ModelCreate failed (src/KIM/pair_kim.cpp:828)\n",
      "Last command: pair_style kim EAM_Dynamo_ZhouJohnsonWadley_2004_Fe__MO_650279905230_005\n",
      "\n",
      "2023-08-11 18:26:29,828 - pyiron_log - WARNING - No HDF5 file found - remove database entry and create new job! bulk_slab_111_87\n",
      "2023-08-11 18:26:29,979 - pyiron_log - WARNING - Job aborted\n",
      "2023-08-11 18:26:29,980 - pyiron_log - WARNING - LAMMPS (28 Mar 2023 - Update 1)\n",
      "Reading data file ...\n",
      "  orthogonal box = (0 0 0) to (4.0048391 6.9365848 34.619625)\n",
      "  1 by 1 by 1 MPI processor grid\n",
      "  reading atoms ...\n",
      "  48 atoms\n",
      "  read_data CPU = 0.000 seconds\n",
      "ERROR: KIM ModelCreate failed (src/KIM/pair_kim.cpp:828)\n",
      "Last command: pair_style kim EAM_Magnetic2GQuintic_ChiesaDerletDudarev_2011_Fe__MO_140444321607_002\n",
      "\n"
     ]
    },
    {
     "name": "stdout",
     "output_type": "stream",
     "text": [
      "The job bulk_slab_111_86 was saved and received the ID: 1088\n",
      "The job bulk_slab_111_87 was saved and received the ID: 1089\n"
     ]
    },
    {
     "name": "stderr",
     "output_type": "stream",
     "text": [
      "2023-08-11 18:26:29,992 - pyiron_log - WARNING - No HDF5 file found - remove database entry and create new job! bulk_slab_111_88\n",
      "2023-08-11 18:26:30,499 - pyiron_log - WARNING - Job aborted\n",
      "2023-08-11 18:26:30,500 - pyiron_log - WARNING - LAMMPS (28 Mar 2023 - Update 1)\n",
      "Reading data file ...\n",
      "  orthogonal box = (0 0 0) to (4.0048391 6.9365848 34.619625)\n",
      "  1 by 1 by 1 MPI processor grid\n",
      "  reading atoms ...\n",
      "  48 atoms\n",
      "  read_data CPU = 0.000 seconds\n",
      "ERROR: KIM ModelCreate failed (src/KIM/pair_kim.cpp:828)\n",
      "Last command: pair_style kim EAM_MagneticCubic_DudarevDerlet_2005_Fe__MO_135034229282_002\n",
      "\n",
      "2023-08-11 18:26:30,512 - pyiron_log - WARNING - No HDF5 file found - remove database entry and create new job! bulk_slab_111_89\n"
     ]
    },
    {
     "name": "stdout",
     "output_type": "stream",
     "text": [
      "The job bulk_slab_111_88 was saved and received the ID: 1090\n",
      "The job bulk_slab_111_89 was saved and received the ID: 1091\n"
     ]
    },
    {
     "name": "stderr",
     "output_type": "stream",
     "text": [
      "2023-08-11 18:26:30,690 - pyiron_log - WARNING - Job aborted\n",
      "2023-08-11 18:26:30,691 - pyiron_log - WARNING - LAMMPS (28 Mar 2023 - Update 1)\n",
      "Reading data file ...\n",
      "  orthogonal box = (0 0 0) to (4.0048391 6.9365848 34.619625)\n",
      "  1 by 1 by 1 MPI processor grid\n",
      "  reading atoms ...\n",
      "  48 atoms\n",
      "  read_data CPU = 0.000 seconds\n",
      "ERROR: KIM ModelCreate failed (src/KIM/pair_kim.cpp:828)\n",
      "Last command: pair_style kim EAM_MagneticCubic_MendelevHanSrolovitz_2003_Fe__MO_856295952425_002\n",
      "\n",
      "2023-08-11 18:26:30,703 - pyiron_log - WARNING - No HDF5 file found - remove database entry and create new job! bulk_slab_111_90\n",
      "2023-08-11 18:26:30,879 - pyiron_log - WARNING - Job aborted\n",
      "2023-08-11 18:26:30,880 - pyiron_log - WARNING - LAMMPS (28 Mar 2023 - Update 1)\n",
      "Reading data file ...\n",
      "  orthogonal box = (0 0 0) to (4.0048391 6.9365848 34.619625)\n",
      "  1 by 1 by 1 MPI processor grid\n",
      "  reading atoms ...\n",
      "  48 atoms\n",
      "  read_data CPU = 0.000 seconds\n",
      "ERROR: KIM ModelCreate failed (src/KIM/pair_kim.cpp:828)\n",
      "Last command: pair_style kim MEAM_LAMMPS_AsadiZaeemNouranian_2015_Fe__MO_492310898779_000\n",
      "\n",
      "2023-08-11 18:26:30,890 - pyiron_log - WARNING - No HDF5 file found - remove database entry and create new job! bulk_slab_111_91\n"
     ]
    },
    {
     "name": "stdout",
     "output_type": "stream",
     "text": [
      "The job bulk_slab_111_90 was saved and received the ID: 1092\n",
      "The job bulk_slab_111_91 was saved and received the ID: 1093\n"
     ]
    },
    {
     "name": "stderr",
     "output_type": "stream",
     "text": [
      "2023-08-11 18:26:31,052 - pyiron_log - WARNING - Job aborted\n",
      "2023-08-11 18:26:31,053 - pyiron_log - WARNING - LAMMPS (28 Mar 2023 - Update 1)\n",
      "Reading data file ...\n",
      "  orthogonal box = (0 0 0) to (4.0048391 6.9365848 34.619625)\n",
      "  1 by 1 by 1 MPI processor grid\n",
      "  reading atoms ...\n",
      "  48 atoms\n",
      "  read_data CPU = 0.000 seconds\n",
      "ERROR: KIM ModelCreate failed (src/KIM/pair_kim.cpp:828)\n",
      "Last command: pair_style kim MEAM_LAMMPS_ChoiJoSohn_2018_CoNiCrFeMn__MO_115454747503_000\n",
      "\n",
      "2023-08-11 18:26:31,063 - pyiron_log - WARNING - No HDF5 file found - remove database entry and create new job! bulk_slab_111_92\n",
      "2023-08-11 18:26:31,233 - pyiron_log - WARNING - Job aborted\n",
      "2023-08-11 18:26:31,234 - pyiron_log - WARNING - LAMMPS (28 Mar 2023 - Update 1)\n",
      "Reading data file ...\n",
      "  orthogonal box = (0 0 0) to (4.0048391 6.9365848 34.619625)\n",
      "  1 by 1 by 1 MPI processor grid\n",
      "  reading atoms ...\n",
      "  48 atoms\n",
      "  read_data CPU = 0.000 seconds\n",
      "ERROR: KIM ModelCreate failed (src/KIM/pair_kim.cpp:828)\n",
      "Last command: pair_style kim MEAM_LAMMPS_ChoiKimSeol_2017_CoFe__MO_179158257180_000\n",
      "\n",
      "2023-08-11 18:26:31,245 - pyiron_log - WARNING - No HDF5 file found - remove database entry and create new job! bulk_slab_111_93\n",
      "2023-08-11 18:26:31,405 - pyiron_log - WARNING - Job aborted\n"
     ]
    },
    {
     "name": "stdout",
     "output_type": "stream",
     "text": [
      "The job bulk_slab_111_92 was saved and received the ID: 1094\n",
      "The job bulk_slab_111_93 was saved and received the ID: 1095\n"
     ]
    },
    {
     "name": "stderr",
     "output_type": "stream",
     "text": [
      "2023-08-11 18:26:31,406 - pyiron_log - WARNING - LAMMPS (28 Mar 2023 - Update 1)\n",
      "Reading data file ...\n",
      "  orthogonal box = (0 0 0) to (4.0048391 6.9365848 34.619625)\n",
      "  1 by 1 by 1 MPI processor grid\n",
      "  reading atoms ...\n",
      "  48 atoms\n",
      "  read_data CPU = 0.000 seconds\n",
      "ERROR: KIM ModelCreate failed (src/KIM/pair_kim.cpp:828)\n",
      "Last command: pair_style kim MEAM_LAMMPS_EtesamiAsadi_2018_Fe__MO_549900287421_000\n",
      "\n",
      "2023-08-11 18:26:31,417 - pyiron_log - WARNING - No HDF5 file found - remove database entry and create new job! bulk_slab_111_94\n",
      "2023-08-11 18:26:31,574 - pyiron_log - WARNING - Job aborted\n",
      "2023-08-11 18:26:31,575 - pyiron_log - WARNING - LAMMPS (28 Mar 2023 - Update 1)\n",
      "Reading data file ...\n",
      "  orthogonal box = (0 0 0) to (4.0048391 6.9365848 34.619625)\n",
      "  1 by 1 by 1 MPI processor grid\n",
      "  reading atoms ...\n",
      "  48 atoms\n",
      "  read_data CPU = 0.000 seconds\n",
      "ERROR: KIM ModelCreate failed (src/KIM/pair_kim.cpp:828)\n",
      "Last command: pair_style kim MEAM_LAMMPS_JelinekGrohHorstemeyer_2012_AlSiMgCuFe__MO_262519520678_000\n",
      "\n",
      "2023-08-11 18:26:31,586 - pyiron_log - WARNING - No HDF5 file found - remove database entry and create new job! bulk_slab_111_95\n"
     ]
    },
    {
     "name": "stdout",
     "output_type": "stream",
     "text": [
      "The job bulk_slab_111_94 was saved and received the ID: 1096\n"
     ]
    },
    {
     "name": "stderr",
     "output_type": "stream",
     "text": [
      "2023-08-11 18:26:31,781 - pyiron_log - WARNING - Job aborted\n",
      "2023-08-11 18:26:31,782 - pyiron_log - WARNING - LAMMPS (28 Mar 2023 - Update 1)\n",
      "Reading data file ...\n",
      "  orthogonal box = (0 0 0) to (4.0048391 6.9365848 34.619625)\n",
      "  1 by 1 by 1 MPI processor grid\n",
      "  reading atoms ...\n",
      "  48 atoms\n",
      "  read_data CPU = 0.000 seconds\n",
      "ERROR: KIM ModelCreate failed (src/KIM/pair_kim.cpp:828)\n",
      "Last command: pair_style kim MEAM_LAMMPS_JeongParkDo_2018_PdFe__MO_924736622203_000\n",
      "\n",
      "2023-08-11 18:26:31,795 - pyiron_log - WARNING - No HDF5 file found - remove database entry and create new job! bulk_slab_111_96\n"
     ]
    },
    {
     "name": "stdout",
     "output_type": "stream",
     "text": [
      "The job bulk_slab_111_95 was saved and received the ID: 1097\n",
      "The job bulk_slab_111_96 was saved and received the ID: 1098\n"
     ]
    },
    {
     "name": "stderr",
     "output_type": "stream",
     "text": [
      "2023-08-11 18:26:31,962 - pyiron_log - WARNING - Job aborted\n",
      "2023-08-11 18:26:31,964 - pyiron_log - WARNING - LAMMPS (28 Mar 2023 - Update 1)\n",
      "Reading data file ...\n",
      "  orthogonal box = (0 0 0) to (4.0048391 6.9365848 34.619625)\n",
      "  1 by 1 by 1 MPI processor grid\n",
      "  reading atoms ...\n",
      "  48 atoms\n",
      "  read_data CPU = 0.000 seconds\n",
      "ERROR: KIM ModelCreate failed (src/KIM/pair_kim.cpp:828)\n",
      "Last command: pair_style kim MEAM_LAMMPS_KimJungLee_2009_FeTiC__MO_110119204723_000\n",
      "\n",
      "2023-08-11 18:26:31,974 - pyiron_log - WARNING - No HDF5 file found - remove database entry and create new job! bulk_slab_111_97\n",
      "2023-08-11 18:26:32,131 - pyiron_log - WARNING - Job aborted\n",
      "2023-08-11 18:26:32,132 - pyiron_log - WARNING - LAMMPS (28 Mar 2023 - Update 1)\n",
      "Reading data file ...\n",
      "  orthogonal box = (0 0 0) to (4.0048391 6.9365848 34.619625)\n",
      "  1 by 1 by 1 MPI processor grid\n",
      "  reading atoms ...\n",
      "  48 atoms\n",
      "  read_data CPU = 0.001 seconds\n",
      "ERROR: KIM ModelCreate failed (src/KIM/pair_kim.cpp:828)\n",
      "Last command: pair_style kim MEAM_LAMMPS_KimJungLee_2010_FeNbC__MO_072689718616_000\n",
      "\n",
      "2023-08-11 18:26:32,145 - pyiron_log - WARNING - No HDF5 file found - remove database entry and create new job! bulk_slab_111_98\n"
     ]
    },
    {
     "name": "stdout",
     "output_type": "stream",
     "text": [
      "The job bulk_slab_111_97 was saved and received the ID: 1099\n",
      "The job bulk_slab_111_98 was saved and received the ID: 1100\n"
     ]
    },
    {
     "name": "stderr",
     "output_type": "stream",
     "text": [
      "2023-08-11 18:26:32,334 - pyiron_log - WARNING - Job aborted\n",
      "2023-08-11 18:26:32,334 - pyiron_log - WARNING - LAMMPS (28 Mar 2023 - Update 1)\n",
      "Reading data file ...\n",
      "  orthogonal box = (0 0 0) to (4.0048391 6.9365848 34.619625)\n",
      "  1 by 1 by 1 MPI processor grid\n",
      "  reading atoms ...\n",
      "  48 atoms\n",
      "  read_data CPU = 0.000 seconds\n",
      "ERROR: KIM ModelCreate failed (src/KIM/pair_kim.cpp:828)\n",
      "Last command: pair_style kim MEAM_LAMMPS_KimLee_2006_PtFe__MO_343168101490_000\n",
      "\n",
      "2023-08-11 18:26:32,346 - pyiron_log - WARNING - No HDF5 file found - remove database entry and create new job! bulk_slab_111_99\n",
      "2023-08-11 18:26:32,541 - pyiron_log - WARNING - Job aborted\n",
      "2023-08-11 18:26:32,542 - pyiron_log - WARNING - LAMMPS (28 Mar 2023 - Update 1)\n",
      "Reading data file ...\n",
      "  orthogonal box = (0 0 0) to (4.0048391 6.9365848 34.619625)\n",
      "  1 by 1 by 1 MPI processor grid\n",
      "  reading atoms ...\n",
      "  48 atoms\n",
      "  read_data CPU = 0.001 seconds\n",
      "ERROR: KIM ModelCreate failed (src/KIM/pair_kim.cpp:828)\n",
      "Last command: pair_style kim MEAM_LAMMPS_KimShinLee_2009_FeMn__MO_058735400462_000\n",
      "\n",
      "2023-08-11 18:26:32,554 - pyiron_log - WARNING - No HDF5 file found - remove database entry and create new job! bulk_slab_111_100\n",
      "2023-08-11 18:26:32,705 - pyiron_log - WARNING - Job aborted\n",
      "2023-08-11 18:26:32,706 - pyiron_log - WARNING - LAMMPS (28 Mar 2023 - Update 1)\n",
      "Reading data file ...\n",
      "  orthogonal box = (0 0 0) to (4.0048391 6.9365848 34.619625)\n",
      "  1 by 1 by 1 MPI processor grid\n",
      "  reading atoms ...\n",
      "  48 atoms\n",
      "  read_data CPU = 0.000 seconds\n",
      "ERROR: KIM ModelCreate failed (src/KIM/pair_kim.cpp:828)\n",
      "Last command: pair_style kim MEAM_LAMMPS_KoJimLee_2012_FeP__MO_179420363944_000\n",
      "\n"
     ]
    },
    {
     "name": "stdout",
     "output_type": "stream",
     "text": [
      "The job bulk_slab_111_99 was saved and received the ID: 1101\n",
      "The job bulk_slab_111_100 was saved and received the ID: 1102\n"
     ]
    },
    {
     "name": "stderr",
     "output_type": "stream",
     "text": [
      "2023-08-11 18:26:32,719 - pyiron_log - WARNING - No HDF5 file found - remove database entry and create new job! bulk_slab_111_101\n",
      "2023-08-11 18:26:32,890 - pyiron_log - WARNING - Job aborted\n",
      "2023-08-11 18:26:32,891 - pyiron_log - WARNING - LAMMPS (28 Mar 2023 - Update 1)\n",
      "Reading data file ...\n",
      "  orthogonal box = (0 0 0) to (4.0048391 6.9365848 34.619625)\n",
      "  1 by 1 by 1 MPI processor grid\n",
      "  reading atoms ...\n",
      "  48 atoms\n",
      "  read_data CPU = 0.000 seconds\n",
      "ERROR: KIM ModelCreate failed (src/KIM/pair_kim.cpp:828)\n",
      "Last command: pair_style kim MEAM_LAMMPS_LeeJang_2007_FeH__MO_095610951957_000\n",
      "\n",
      "2023-08-11 18:26:32,903 - pyiron_log - WARNING - No HDF5 file found - remove database entry and create new job! bulk_slab_111_102\n"
     ]
    },
    {
     "name": "stdout",
     "output_type": "stream",
     "text": [
      "The job bulk_slab_111_101 was saved and received the ID: 1103\n",
      "The job bulk_slab_111_102 was saved and received the ID: 1104\n"
     ]
    },
    {
     "name": "stderr",
     "output_type": "stream",
     "text": [
      "2023-08-11 18:26:33,058 - pyiron_log - WARNING - Job aborted\n",
      "2023-08-11 18:26:33,059 - pyiron_log - WARNING - LAMMPS (28 Mar 2023 - Update 1)\n",
      "Reading data file ...\n",
      "  orthogonal box = (0 0 0) to (4.0048391 6.9365848 34.619625)\n",
      "  1 by 1 by 1 MPI processor grid\n",
      "  reading atoms ...\n",
      "  48 atoms\n",
      "  read_data CPU = 0.000 seconds\n",
      "ERROR: KIM ModelCreate failed (src/KIM/pair_kim.cpp:828)\n",
      "Last command: pair_style kim MEAM_LAMMPS_LeeLeeKim_2006_FeN__MO_432861766738_000\n",
      "\n",
      "2023-08-11 18:26:33,072 - pyiron_log - WARNING - No HDF5 file found - remove database entry and create new job! bulk_slab_111_103\n",
      "2023-08-11 18:26:33,266 - pyiron_log - WARNING - Job aborted\n",
      "2023-08-11 18:26:33,267 - pyiron_log - WARNING - LAMMPS (28 Mar 2023 - Update 1)\n",
      "Reading data file ...\n",
      "  orthogonal box = (0 0 0) to (4.0048391 6.9365848 34.619625)\n",
      "  1 by 1 by 1 MPI processor grid\n",
      "  reading atoms ...\n",
      "  48 atoms\n",
      "  read_data CPU = 0.000 seconds\n",
      "ERROR: KIM ModelCreate failed (src/KIM/pair_kim.cpp:828)\n",
      "Last command: pair_style kim MEAM_LAMMPS_LeeLee_2010_FeAl__MO_332211522050_000\n",
      "\n",
      "2023-08-11 18:26:33,281 - pyiron_log - WARNING - No HDF5 file found - remove database entry and create new job! bulk_slab_111_104\n"
     ]
    },
    {
     "name": "stdout",
     "output_type": "stream",
     "text": [
      "The job bulk_slab_111_103 was saved and received the ID: 1105\n",
      "The job bulk_slab_111_104 was saved and received the ID: 1106\n"
     ]
    },
    {
     "name": "stderr",
     "output_type": "stream",
     "text": [
      "2023-08-11 18:26:33,448 - pyiron_log - WARNING - Job aborted\n",
      "2023-08-11 18:26:33,450 - pyiron_log - WARNING - LAMMPS (28 Mar 2023 - Update 1)\n",
      "Reading data file ...\n",
      "  orthogonal box = (0 0 0) to (4.0048391 6.9365848 34.619625)\n",
      "  1 by 1 by 1 MPI processor grid\n",
      "  reading atoms ...\n",
      "  48 atoms\n",
      "  read_data CPU = 0.000 seconds\n",
      "ERROR: KIM ModelCreate failed (src/KIM/pair_kim.cpp:828)\n",
      "Last command: pair_style kim MEAM_LAMMPS_LeeWirthShim_2005_FeCu__MO_063626065437_000\n",
      "\n",
      "2023-08-11 18:26:33,461 - pyiron_log - WARNING - No HDF5 file found - remove database entry and create new job! bulk_slab_111_105\n",
      "2023-08-11 18:26:33,617 - pyiron_log - WARNING - Job aborted\n",
      "2023-08-11 18:26:33,617 - pyiron_log - WARNING - LAMMPS (28 Mar 2023 - Update 1)\n",
      "Reading data file ...\n",
      "  orthogonal box = (0 0 0) to (4.0048391 6.9365848 34.619625)\n",
      "  1 by 1 by 1 MPI processor grid\n",
      "  reading atoms ...\n",
      "  48 atoms\n",
      "  read_data CPU = 0.000 seconds\n",
      "ERROR: KIM ModelCreate failed (src/KIM/pair_kim.cpp:828)\n",
      "Last command: pair_style kim MEAM_LAMMPS_Lee_2006_FeC__MO_856956178669_000\n",
      "\n",
      "2023-08-11 18:26:33,629 - pyiron_log - WARNING - No HDF5 file found - remove database entry and create new job! bulk_slab_111_106\n"
     ]
    },
    {
     "name": "stdout",
     "output_type": "stream",
     "text": [
      "The job bulk_slab_111_105 was saved and received the ID: 1107\n",
      "The job bulk_slab_111_106 was saved and received the ID: 1108\n"
     ]
    },
    {
     "name": "stderr",
     "output_type": "stream",
     "text": [
      "2023-08-11 18:26:33,813 - pyiron_log - WARNING - Job aborted\n",
      "2023-08-11 18:26:33,814 - pyiron_log - WARNING - LAMMPS (28 Mar 2023 - Update 1)\n",
      "Reading data file ...\n",
      "  orthogonal box = (0 0 0) to (4.0048391 6.9365848 34.619625)\n",
      "  1 by 1 by 1 MPI processor grid\n",
      "  reading atoms ...\n",
      "  48 atoms\n",
      "  read_data CPU = 0.000 seconds\n",
      "ERROR: KIM ModelCreate failed (src/KIM/pair_kim.cpp:828)\n",
      "Last command: pair_style kim MEAM_LAMMPS_LiyanageKimHouze_2014_FeC__MO_075279800195_000\n",
      "\n",
      "2023-08-11 18:26:33,826 - pyiron_log - WARNING - No HDF5 file found - remove database entry and create new job! bulk_slab_111_107\n",
      "2023-08-11 18:26:33,985 - pyiron_log - WARNING - Job aborted\n",
      "2023-08-11 18:26:33,986 - pyiron_log - WARNING - LAMMPS (28 Mar 2023 - Update 1)\n",
      "Reading data file ...\n",
      "  orthogonal box = (0 0 0) to (4.0048391 6.9365848 34.619625)\n",
      "  1 by 1 by 1 MPI processor grid\n",
      "  reading atoms ...\n",
      "  48 atoms\n",
      "  read_data CPU = 0.000 seconds\n",
      "ERROR: KIM ModelCreate failed (src/KIM/pair_kim.cpp:828)\n",
      "Last command: pair_style kim MEAM_LAMMPS_SaLee_2008_FeTi__MO_260546967793_000\n",
      "\n",
      "2023-08-11 18:26:33,997 - pyiron_log - WARNING - No HDF5 file found - remove database entry and create new job! bulk_slab_111_108\n"
     ]
    },
    {
     "name": "stdout",
     "output_type": "stream",
     "text": [
      "The job bulk_slab_111_107 was saved and received the ID: 1109\n",
      "The job bulk_slab_111_108 was saved and received the ID: 1110\n"
     ]
    },
    {
     "name": "stderr",
     "output_type": "stream",
     "text": [
      "2023-08-11 18:26:34,164 - pyiron_log - WARNING - Job aborted\n",
      "2023-08-11 18:26:34,166 - pyiron_log - WARNING - LAMMPS (28 Mar 2023 - Update 1)\n",
      "Reading data file ...\n",
      "  orthogonal box = (0 0 0) to (4.0048391 6.9365848 34.619625)\n",
      "  1 by 1 by 1 MPI processor grid\n",
      "  reading atoms ...\n",
      "  48 atoms\n",
      "  read_data CPU = 0.000 seconds\n",
      "ERROR: KIM ModelCreate failed (src/KIM/pair_kim.cpp:828)\n",
      "Last command: pair_style kim MEAM_LAMMPS_SaLee_2008_NbFe__MO_162036141261_000\n",
      "\n",
      "2023-08-11 18:26:34,178 - pyiron_log - WARNING - No HDF5 file found - remove database entry and create new job! bulk_slab_111_109\n",
      "2023-08-11 18:26:34,365 - pyiron_log - WARNING - Job aborted\n",
      "2023-08-11 18:26:34,366 - pyiron_log - WARNING - LAMMPS (28 Mar 2023 - Update 1)\n",
      "Reading data file ...\n",
      "  orthogonal box = (0 0 0) to (4.0048391 6.9365848 34.619625)\n",
      "  1 by 1 by 1 MPI processor grid\n",
      "  reading atoms ...\n",
      "  48 atoms\n",
      "  read_data CPU = 0.000 seconds\n",
      "ERROR: KIM ModelCreate failed (src/KIM/pair_kim.cpp:828)\n",
      "Last command: pair_style kim MEAM_LAMMPS_WuLeeSu_2017_NiCrFe__MO_912636107108_000\n",
      "\n",
      "2023-08-11 18:26:34,377 - pyiron_log - WARNING - No HDF5 file found - remove database entry and create new job! bulk_slab_111_110\n"
     ]
    },
    {
     "name": "stdout",
     "output_type": "stream",
     "text": [
      "The job bulk_slab_111_109 was saved and received the ID: 1111\n",
      "The job bulk_slab_111_110 was saved and received the ID: 1112\n"
     ]
    },
    {
     "name": "stderr",
     "output_type": "stream",
     "text": [
      "2023-08-11 18:26:34,532 - pyiron_log - WARNING - Job aborted\n",
      "2023-08-11 18:26:34,533 - pyiron_log - WARNING - LAMMPS (28 Mar 2023 - Update 1)\n",
      "Reading data file ...\n",
      "  orthogonal box = (0 0 0) to (4.0048391 6.9365848 34.619625)\n",
      "  1 by 1 by 1 MPI processor grid\n",
      "  reading atoms ...\n",
      "  48 atoms\n",
      "  read_data CPU = 0.000 seconds\n",
      "ERROR: KIM ModelCreate failed (src/KIM/pair_kim.cpp:828)\n",
      "Last command: pair_style kim MEAM_LAMMPS_WuLeeSu_2017_NiFe__MO_321233176498_000\n",
      "\n",
      "2023-08-11 18:26:34,546 - pyiron_log - WARNING - No HDF5 file found - remove database entry and create new job! bulk_slab_111_111\n",
      "2023-08-11 18:26:34,714 - pyiron_log - WARNING - Job aborted\n",
      "2023-08-11 18:26:34,715 - pyiron_log - WARNING - LAMMPS (28 Mar 2023 - Update 1)\n",
      "Reading data file ...\n",
      "  orthogonal box = (0 0 0) to (4.0048391 6.9365848 34.619625)\n",
      "  1 by 1 by 1 MPI processor grid\n",
      "  reading atoms ...\n",
      "  48 atoms\n",
      "  read_data CPU = 0.001 seconds\n",
      "ERROR: KIM ModelCreate failed (src/KIM/pair_kim.cpp:828)\n",
      "Last command: pair_style kim MJ_MorrisAgaLevashov_2008_Fe__MO_857282754307_003\n",
      "\n",
      "2023-08-11 18:26:34,727 - pyiron_log - WARNING - No HDF5 file found - remove database entry and create new job! bulk_slab_111_112\n"
     ]
    },
    {
     "name": "stdout",
     "output_type": "stream",
     "text": [
      "The job bulk_slab_111_111 was saved and received the ID: 1113\n"
     ]
    },
    {
     "name": "stderr",
     "output_type": "stream",
     "text": [
      "2023-08-11 18:26:34,921 - pyiron_log - WARNING - Job aborted\n",
      "2023-08-11 18:26:34,922 - pyiron_log - WARNING - LAMMPS (28 Mar 2023 - Update 1)\n",
      "Reading data file ...\n",
      "  orthogonal box = (0 0 0) to (4.0048391 6.9365848 34.619625)\n",
      "  1 by 1 by 1 MPI processor grid\n",
      "  reading atoms ...\n",
      "  48 atoms\n",
      "  read_data CPU = 0.000 seconds\n",
      "ERROR: KIM ModelCreate failed (src/KIM/pair_kim.cpp:828)\n",
      "Last command: pair_style kim Morse_Shifted_GirifalcoWeizer_1959HighCutoff_Fe__MO_147603128437_004\n",
      "\n",
      "2023-08-11 18:26:34,934 - pyiron_log - WARNING - No HDF5 file found - remove database entry and create new job! bulk_slab_111_113\n"
     ]
    },
    {
     "name": "stdout",
     "output_type": "stream",
     "text": [
      "The job bulk_slab_111_112 was saved and received the ID: 1114\n",
      "The job bulk_slab_111_113 was saved and received the ID: 1115\n"
     ]
    },
    {
     "name": "stderr",
     "output_type": "stream",
     "text": [
      "2023-08-11 18:26:35,093 - pyiron_log - WARNING - Job aborted\n",
      "2023-08-11 18:26:35,094 - pyiron_log - WARNING - LAMMPS (28 Mar 2023 - Update 1)\n",
      "Reading data file ...\n",
      "  orthogonal box = (0 0 0) to (4.0048391 6.9365848 34.619625)\n",
      "  1 by 1 by 1 MPI processor grid\n",
      "  reading atoms ...\n",
      "  48 atoms\n",
      "  read_data CPU = 0.001 seconds\n",
      "ERROR: KIM ModelCreate failed (src/KIM/pair_kim.cpp:828)\n",
      "Last command: pair_style kim Morse_Shifted_GirifalcoWeizer_1959LowCutoff_Fe__MO_331285495617_004\n",
      "\n",
      "2023-08-11 18:26:35,107 - pyiron_log - WARNING - No HDF5 file found - remove database entry and create new job! bulk_slab_111_114\n",
      "2023-08-11 18:26:35,284 - pyiron_log - WARNING - Job aborted\n",
      "2023-08-11 18:26:35,285 - pyiron_log - WARNING - LAMMPS (28 Mar 2023 - Update 1)\n",
      "Reading data file ...\n",
      "  orthogonal box = (0 0 0) to (4.0048391 6.9365848 34.619625)\n",
      "  1 by 1 by 1 MPI processor grid\n",
      "  reading atoms ...\n",
      "  48 atoms\n",
      "  read_data CPU = 0.000 seconds\n",
      "ERROR: KIM ModelCreate failed (src/KIM/pair_kim.cpp:828)\n",
      "Last command: pair_style kim Morse_Shifted_GirifalcoWeizer_1959MedCutoff_Fe__MO_984358344196_004\n",
      "\n",
      "2023-08-11 18:26:35,299 - pyiron_log - WARNING - No HDF5 file found - remove database entry and create new job! bulk_slab_111_115\n"
     ]
    },
    {
     "name": "stdout",
     "output_type": "stream",
     "text": [
      "The job bulk_slab_111_114 was saved and received the ID: 1116\n",
      "The job bulk_slab_111_115 was saved and received the ID: 1117\n"
     ]
    },
    {
     "name": "stderr",
     "output_type": "stream",
     "text": [
      "2023-08-11 18:26:35,461 - pyiron_log - WARNING - Job aborted\n",
      "2023-08-11 18:26:35,463 - pyiron_log - WARNING - LAMMPS (28 Mar 2023 - Update 1)\n",
      "Reading data file ...\n",
      "  orthogonal box = (0 0 0) to (4.0048391 6.9365848 34.619625)\n",
      "  1 by 1 by 1 MPI processor grid\n",
      "  reading atoms ...\n",
      "  48 atoms\n",
      "  read_data CPU = 0.000 seconds\n",
      "ERROR: KIM ModelCreate failed (src/KIM/pair_kim.cpp:828)\n",
      "Last command: pair_style kim Tersoff_LAMMPS_MuellerErhartAlbe_2007_Fe__MO_137964310702_003\n",
      "\n",
      "2023-08-11 18:26:35,477 - pyiron_log - WARNING - No HDF5 file found - remove database entry and create new job! bulk_slab_111_116\n",
      "2023-08-11 18:26:35,645 - pyiron_log - WARNING - Job aborted\n",
      "2023-08-11 18:26:35,645 - pyiron_log - WARNING - LAMMPS (28 Mar 2023 - Update 1)\n",
      "Reading data file ...\n",
      "  orthogonal box = (0 0 0) to (4.0048391 6.9365848 34.619625)\n",
      "  1 by 1 by 1 MPI processor grid\n",
      "  reading atoms ...\n",
      "  48 atoms\n",
      "  read_data CPU = 0.000 seconds\n",
      "ERROR: KIM ModelCreate failed (src/KIM/pair_kim.cpp:828)\n",
      "Last command: pair_style kim Sim_LAMMPS_EAMCD_StukowskiSadighErhart_2009_FeCr__SM_775564499513_000\n",
      "\n",
      "2023-08-11 18:26:35,657 - pyiron_log - WARNING - No HDF5 file found - remove database entry and create new job! bulk_slab_111_117\n"
     ]
    },
    {
     "name": "stdout",
     "output_type": "stream",
     "text": [
      "The job bulk_slab_111_116 was saved and received the ID: 1118\n",
      "The job bulk_slab_111_117 was saved and received the ID: 1119\n"
     ]
    },
    {
     "name": "stderr",
     "output_type": "stream",
     "text": [
      "2023-08-11 18:26:35,841 - pyiron_log - WARNING - Job aborted\n",
      "2023-08-11 18:26:35,842 - pyiron_log - WARNING - LAMMPS (28 Mar 2023 - Update 1)\n",
      "Reading data file ...\n",
      "  orthogonal box = (0 0 0) to (4.0048391 6.9365848 34.619625)\n",
      "  1 by 1 by 1 MPI processor grid\n",
      "  reading atoms ...\n",
      "  48 atoms\n",
      "  read_data CPU = 0.000 seconds\n",
      "ERROR: KIM ModelCreate failed (src/KIM/pair_kim.cpp:828)\n",
      "Last command: pair_style kim Sim_LAMMPS_EAM_BonnyCastinBullens_2013_FeCrW__SM_699257350704_000\n",
      "\n",
      "2023-08-11 18:26:35,854 - pyiron_log - WARNING - No HDF5 file found - remove database entry and create new job! bulk_slab_111_118\n",
      "2023-08-11 18:26:36,025 - pyiron_log - WARNING - Job aborted\n",
      "2023-08-11 18:26:36,026 - pyiron_log - WARNING - LAMMPS (28 Mar 2023 - Update 1)\n",
      "Reading data file ...\n",
      "  orthogonal box = (0 0 0) to (4.0048391 6.9365848 34.619625)\n",
      "  1 by 1 by 1 MPI processor grid\n",
      "  reading atoms ...\n",
      "  48 atoms\n",
      "  read_data CPU = 0.000 seconds\n",
      "ERROR: KIM ModelCreate failed (src/KIM/pair_kim.cpp:828)\n",
      "Last command: pair_style kim Sim_LAMMPS_EAM_BonnyPasianotTerentyev_2011_FeCr__SM_237089298463_000\n",
      "\n",
      "2023-08-11 18:26:36,038 - pyiron_log - WARNING - No HDF5 file found - remove database entry and create new job! bulk_slab_111_119\n",
      "2023-08-11 18:26:36,191 - pyiron_log - WARNING - Job aborted\n",
      "2023-08-11 18:26:36,192 - pyiron_log - WARNING - LAMMPS (28 Mar 2023 - Update 1)\n",
      "Reading data file ...\n",
      "  orthogonal box = (0 0 0) to (4.0048391 6.9365848 34.619625)\n",
      "  1 by 1 by 1 MPI processor grid\n",
      "  reading atoms ...\n",
      "  48 atoms\n",
      "  read_data CPU = 0.000 seconds\n",
      "ERROR: KIM ModelCreate failed (src/KIM/pair_kim.cpp:828)\n",
      "Last command: pair_style kim Sim_LAMMPS_MEAM_AsadiZaeemNouranian_2015_Fe__SM_042630680993_000\n",
      "\n"
     ]
    },
    {
     "name": "stdout",
     "output_type": "stream",
     "text": [
      "The job bulk_slab_111_118 was saved and received the ID: 1120\n",
      "The job bulk_slab_111_119 was saved and received the ID: 1121\n"
     ]
    },
    {
     "name": "stderr",
     "output_type": "stream",
     "text": [
      "2023-08-11 18:26:36,204 - pyiron_log - WARNING - No HDF5 file found - remove database entry and create new job! bulk_slab_111_120\n",
      "2023-08-11 18:26:36,359 - pyiron_log - WARNING - Job aborted\n",
      "2023-08-11 18:26:36,360 - pyiron_log - WARNING - LAMMPS (28 Mar 2023 - Update 1)\n",
      "Reading data file ...\n",
      "  orthogonal box = (0 0 0) to (4.0048391 6.9365848 34.619625)\n",
      "  1 by 1 by 1 MPI processor grid\n",
      "  reading atoms ...\n",
      "  48 atoms\n",
      "  read_data CPU = 0.000 seconds\n",
      "ERROR: KIM ModelCreate failed (src/KIM/pair_kim.cpp:828)\n",
      "Last command: pair_style kim Sim_LAMMPS_MEAM_EtesamiAsadi_2018_Fe__SM_267016608755_000\n",
      "\n",
      "2023-08-11 18:26:36,372 - pyiron_log - WARNING - No HDF5 file found - remove database entry and create new job! bulk_slab_111_121\n",
      "2023-08-11 18:26:36,524 - pyiron_log - WARNING - Job aborted\n",
      "2023-08-11 18:26:36,525 - pyiron_log - WARNING - LAMMPS (28 Mar 2023 - Update 1)\n",
      "Reading data file ...\n",
      "  orthogonal box = (0 0 0) to (4.0048391 6.9365848 34.619625)\n",
      "  1 by 1 by 1 MPI processor grid\n",
      "  reading atoms ...\n",
      "  48 atoms\n",
      "  read_data CPU = 0.000 seconds\n",
      "ERROR: KIM ModelCreate failed (src/KIM/pair_kim.cpp:828)\n",
      "Last command: pair_style kim Sim_LAMMPS_MEAM_JelinekGrohHorstemeyer_2012_AlSiMgCuFe__SM_656517352485_000\n",
      "\n"
     ]
    },
    {
     "name": "stdout",
     "output_type": "stream",
     "text": [
      "The job bulk_slab_111_120 was saved and received the ID: 1122\n",
      "The job bulk_slab_111_121 was saved and received the ID: 1123\n"
     ]
    },
    {
     "name": "stderr",
     "output_type": "stream",
     "text": [
      "2023-08-11 18:26:36,538 - pyiron_log - WARNING - No HDF5 file found - remove database entry and create new job! bulk_slab_111_122\n",
      "2023-08-11 18:26:36,703 - pyiron_log - WARNING - Job aborted\n",
      "2023-08-11 18:26:36,704 - pyiron_log - WARNING - LAMMPS (28 Mar 2023 - Update 1)\n",
      "Reading data file ...\n",
      "  orthogonal box = (0 0 0) to (4.0048391 6.9365848 34.619625)\n",
      "  1 by 1 by 1 MPI processor grid\n",
      "  reading atoms ...\n",
      "  48 atoms\n",
      "  read_data CPU = 0.000 seconds\n",
      "ERROR: KIM ModelCreate failed (src/KIM/pair_kim.cpp:828)\n",
      "Last command: pair_style kim Sim_LAMMPS_MEAM_KimJungLee_2009_FeTiC__SM_531038274471_000\n",
      "\n",
      "2023-08-11 18:26:36,717 - pyiron_log - WARNING - No HDF5 file found - remove database entry and create new job! bulk_slab_111_123\n"
     ]
    },
    {
     "name": "stdout",
     "output_type": "stream",
     "text": [
      "The job bulk_slab_111_122 was saved and received the ID: 1124\n",
      "The job bulk_slab_111_123 was saved and received the ID: 1125\n"
     ]
    },
    {
     "name": "stderr",
     "output_type": "stream",
     "text": [
      "2023-08-11 18:26:36,893 - pyiron_log - WARNING - Job aborted\n",
      "2023-08-11 18:26:36,895 - pyiron_log - WARNING - LAMMPS (28 Mar 2023 - Update 1)\n",
      "Reading data file ...\n",
      "  orthogonal box = (0 0 0) to (4.0048391 6.9365848 34.619625)\n",
      "  1 by 1 by 1 MPI processor grid\n",
      "  reading atoms ...\n",
      "  48 atoms\n",
      "  read_data CPU = 0.000 seconds\n",
      "ERROR: KIM ModelCreate failed (src/KIM/pair_kim.cpp:828)\n",
      "Last command: pair_style kim Sim_LAMMPS_MEAM_LiyanageKimHouze_2014_FeC__SM_652425777808_000\n",
      "\n",
      "2023-08-11 18:26:36,906 - pyiron_log - WARNING - No HDF5 file found - remove database entry and create new job! bulk_slab_111_124\n",
      "2023-08-11 18:26:37,075 - pyiron_log - WARNING - Job aborted\n",
      "2023-08-11 18:26:37,076 - pyiron_log - WARNING - LAMMPS (28 Mar 2023 - Update 1)\n",
      "Reading data file ...\n",
      "  orthogonal box = (0 0 0) to (4.0048391 6.9365848 34.619625)\n",
      "  1 by 1 by 1 MPI processor grid\n",
      "  reading atoms ...\n",
      "  48 atoms\n",
      "  read_data CPU = 0.000 seconds\n",
      "ERROR: KIM ModelCreate failed (src/KIM/pair_kim.cpp:828)\n",
      "Last command: pair_style kim Sim_LAMMPS_ReaxFF_AryanpourVanDuinKubicki_2010_FeHO__SM_222964216001_001\n",
      "\n",
      "2023-08-11 18:26:37,088 - pyiron_log - WARNING - No HDF5 file found - remove database entry and create new job! bulk_slab_111_125\n"
     ]
    },
    {
     "name": "stdout",
     "output_type": "stream",
     "text": [
      "The job bulk_slab_111_124 was saved and received the ID: 1126\n",
      "The job bulk_slab_111_125 was saved and received the ID: 1127\n"
     ]
    },
    {
     "name": "stderr",
     "output_type": "stream",
     "text": [
      "2023-08-11 18:26:37,262 - pyiron_log - WARNING - Job aborted\n",
      "2023-08-11 18:26:37,263 - pyiron_log - WARNING - LAMMPS (28 Mar 2023 - Update 1)\n",
      "Reading data file ...\n",
      "  orthogonal box = (0 0 0) to (4.0048391 6.9365848 34.619625)\n",
      "  1 by 1 by 1 MPI processor grid\n",
      "  reading atoms ...\n",
      "  48 atoms\n",
      "  read_data CPU = 0.000 seconds\n",
      "ERROR: KIM ModelCreate failed (src/KIM/pair_kim.cpp:828)\n",
      "Last command: pair_style kim Sim_LAMMPS_TersoffZBL_ByggmastarGranberg_2020_Fe__SM_958863895234_000\n",
      "\n",
      "2023-08-11 18:26:37,279 - pyiron_log - WARNING - No HDF5 file found - remove database entry and create new job! bulk_slab_111_126\n",
      "2023-08-11 18:26:37,454 - pyiron_log - WARNING - Job aborted\n",
      "2023-08-11 18:26:37,455 - pyiron_log - WARNING - LAMMPS (28 Mar 2023 - Update 1)\n",
      "Reading data file ...\n",
      "  orthogonal box = (0 0 0) to (4.0048391 6.9365848 34.619625)\n",
      "  1 by 1 by 1 MPI processor grid\n",
      "  reading atoms ...\n",
      "  48 atoms\n",
      "  read_data CPU = 0.000 seconds\n",
      "ERROR: KIM ModelCreate failed (src/KIM/pair_kim.cpp:828)\n",
      "Last command: pair_style kim Sim_LAMMPS_TersoffZBL_HenrikssonBjorkasNordlund_2013_FeC__SM_473463498269_000\n",
      "\n"
     ]
    },
    {
     "name": "stdout",
     "output_type": "stream",
     "text": [
      "The job bulk_slab_111_126 was saved and received the ID: 1128\n"
     ]
    }
   ],
   "source": [
    "potentials_tested = job.list_potentials()\n",
    "FS_energy_list = []\n",
    "for i, potential in enumerate(potentials_tested):\n",
    "    try:\n",
    "        job_bulk_name = f\"bulk_slab_111_{i}\"\n",
    "        job_bulk = pr.create_job(job_type=pr.job_type.Lammps, job_name=job_bulk_name)\n",
    "        job_bulk.structure = pymatgen_to_pyiron(pmg_slab)\n",
    "        job_bulk.potential = potential\n",
    "        job_bulk.calc_minimize(pressure=None,\n",
    "                            max_iter=10000)\n",
    "        job_bulk.run(delete_existing_job=True)\n",
    "        \n",
    "        job_SLAB_name = f\"FS_slab_111_{i}\"\n",
    "        job_SLAB = pr.create_job(job_type=pr.job_type.Lammps, job_name=job_SLAB_name)\n",
    "        job_SLAB.structure = pymatgen_to_pyiron(pmg_slab_vac)\n",
    "        job_SLAB.potential = potential\n",
    "        job_SLAB.calc_minimize(pressure=None,\n",
    "                            max_iter=10000)\n",
    "        job_SLAB.run(delete_existing_job=True)\n",
    "        \n",
    "        # Formula for GB energy is E_GB_tot - E_SLAB_tot / 2 * (Interface area)\n",
    "        # The 2 in the denominator is to account for the second interface present in the cell due to the periodic conditions\n",
    "        \n",
    "        FS_energy = (job_bulk['output/generic/energy_tot'][-1] - job_SLAB['output/generic/energy_tot'][-1]) \\\n",
    "                    / (2 * job_SLAB.structure.cell.volume / job_SLAB.structure.cell[-1,-1]) * 16.02\n",
    "        \n",
    "        FS_energy_list.append(FS_energy)\n",
    "    except:\n",
    "        FS_energy_list.append(np.nan)"
   ]
  },
  {
   "cell_type": "markdown",
   "metadata": {},
   "source": [
    "Construct a dataframe which contains the information about FS energy, and their errors with respect to a DFT computed value.\n",
    "\n",
    "The FS energy of 2.73 J/m^2 is from the value computed in this study:\n",
    "\n",
    "Mai, H.L., Cui, X.Y., Scheiber, D., Romaner, L. and Ringer, S.P., 2022. The segregation of transition metals to iron grain boundaries and their effects on cohesion. Acta materialia, 231, p.117902."
   ]
  },
  {
   "cell_type": "code",
   "execution_count": 7,
   "metadata": {},
   "outputs": [
    {
     "data": {
      "text/html": [
       "<div>\n",
       "<style scoped>\n",
       "    .dataframe tbody tr th:only-of-type {\n",
       "        vertical-align: middle;\n",
       "    }\n",
       "\n",
       "    .dataframe tbody tr th {\n",
       "        vertical-align: top;\n",
       "    }\n",
       "\n",
       "    .dataframe thead th {\n",
       "        text-align: right;\n",
       "    }\n",
       "</style>\n",
       "<table border=\"1\" class=\"dataframe\">\n",
       "  <thead>\n",
       "    <tr style=\"text-align: right;\">\n",
       "      <th></th>\n",
       "      <th>potential</th>\n",
       "      <th>FS_energy (J/m^2)</th>\n",
       "      <th>err_DFT (J/m^2)</th>\n",
       "      <th>abs_rel_err_DFT (%)</th>\n",
       "    </tr>\n",
       "  </thead>\n",
       "  <tbody>\n",
       "    <tr>\n",
       "      <th>66</th>\n",
       "      <td>2022--Starikov-S--Fe-Cr-H--LAMMPS--ipr1</td>\n",
       "      <td>2.786</td>\n",
       "      <td>-0.056</td>\n",
       "      <td>2.0</td>\n",
       "    </tr>\n",
       "    <tr>\n",
       "      <th>21</th>\n",
       "      <td>2009--Kim-H-K--Fe-Ti-C--LAMMPS--ipr2</td>\n",
       "      <td>2.648</td>\n",
       "      <td>0.082</td>\n",
       "      <td>3.0</td>\n",
       "    </tr>\n",
       "    <tr>\n",
       "      <th>56</th>\n",
       "      <td>2019--Mendelev-M-I--Fe-Ni-Cr--LAMMPS--ipr1</td>\n",
       "      <td>2.355</td>\n",
       "      <td>0.375</td>\n",
       "      <td>14.0</td>\n",
       "    </tr>\n",
       "    <tr>\n",
       "      <th>27</th>\n",
       "      <td>2010--Malerba-L--Fe--LAMMPS--ipr1</td>\n",
       "      <td>2.337</td>\n",
       "      <td>0.393</td>\n",
       "      <td>14.0</td>\n",
       "    </tr>\n",
       "    <tr>\n",
       "      <th>35</th>\n",
       "      <td>2012--Proville-L--Fe--LAMMPS--ipr1</td>\n",
       "      <td>3.182</td>\n",
       "      <td>-0.452</td>\n",
       "      <td>17.0</td>\n",
       "    </tr>\n",
       "    <tr>\n",
       "      <th>...</th>\n",
       "      <td>...</td>\n",
       "      <td>...</td>\n",
       "      <td>...</td>\n",
       "      <td>...</td>\n",
       "    </tr>\n",
       "    <tr>\n",
       "      <th>0</th>\n",
       "      <td>1997--Ackland-G-J--Fe--LAMMPS--ipr1</td>\n",
       "      <td>16.566</td>\n",
       "      <td>-13.836</td>\n",
       "      <td>507.0</td>\n",
       "    </tr>\n",
       "    <tr>\n",
       "      <th>55</th>\n",
       "      <td>2019--Byggmastar-J--Fe-O--LAMMPS--ipr1</td>\n",
       "      <td>18.084</td>\n",
       "      <td>-15.354</td>\n",
       "      <td>562.0</td>\n",
       "    </tr>\n",
       "    <tr>\n",
       "      <th>40</th>\n",
       "      <td>2013--Henriksson-K-O-E--Fe-C--LAMMPS--ipr1</td>\n",
       "      <td>18.084</td>\n",
       "      <td>-15.354</td>\n",
       "      <td>562.0</td>\n",
       "    </tr>\n",
       "    <tr>\n",
       "      <th>32</th>\n",
       "      <td>2011--Chiesa-S--Fe-33--LAMMPS--ipr1</td>\n",
       "      <td>18.308</td>\n",
       "      <td>-15.578</td>\n",
       "      <td>571.0</td>\n",
       "    </tr>\n",
       "    <tr>\n",
       "      <th>57</th>\n",
       "      <td>2020--Byggmastar-J--Fe--LAMMPS--ipr1</td>\n",
       "      <td>22.905</td>\n",
       "      <td>-20.175</td>\n",
       "      <td>739.0</td>\n",
       "    </tr>\n",
       "  </tbody>\n",
       "</table>\n",
       "<p>61 rows × 4 columns</p>\n",
       "</div>"
      ],
      "text/plain": [
       "                                     potential  FS_energy (J/m^2)   \n",
       "66     2022--Starikov-S--Fe-Cr-H--LAMMPS--ipr1              2.786  \\\n",
       "21        2009--Kim-H-K--Fe-Ti-C--LAMMPS--ipr2              2.648   \n",
       "56  2019--Mendelev-M-I--Fe-Ni-Cr--LAMMPS--ipr1              2.355   \n",
       "27           2010--Malerba-L--Fe--LAMMPS--ipr1              2.337   \n",
       "35          2012--Proville-L--Fe--LAMMPS--ipr1              3.182   \n",
       "..                                         ...                ...   \n",
       "0          1997--Ackland-G-J--Fe--LAMMPS--ipr1             16.566   \n",
       "55      2019--Byggmastar-J--Fe-O--LAMMPS--ipr1             18.084   \n",
       "40  2013--Henriksson-K-O-E--Fe-C--LAMMPS--ipr1             18.084   \n",
       "32         2011--Chiesa-S--Fe-33--LAMMPS--ipr1             18.308   \n",
       "57        2020--Byggmastar-J--Fe--LAMMPS--ipr1             22.905   \n",
       "\n",
       "    err_DFT (J/m^2)  abs_rel_err_DFT (%)  \n",
       "66           -0.056                  2.0  \n",
       "21            0.082                  3.0  \n",
       "56            0.375                 14.0  \n",
       "27            0.393                 14.0  \n",
       "35           -0.452                 17.0  \n",
       "..              ...                  ...  \n",
       "0           -13.836                507.0  \n",
       "55          -15.354                562.0  \n",
       "40          -15.354                562.0  \n",
       "32          -15.578                571.0  \n",
       "57          -20.175                739.0  \n",
       "\n",
       "[61 rows x 4 columns]"
      ]
     },
     "execution_count": 7,
     "metadata": {},
     "output_type": "execute_result"
    }
   ],
   "source": [
    "data = {'potential': potentials_tested, 'FS_energy (J/m^2)': FS_energy_list}\n",
    "df = pd.DataFrame(data)\n",
    "\n",
    "FS_energy_DFT = 2.73\n",
    "df[\"err_DFT (J/m^2)\"] = np.round(FS_energy_DFT - df[\"FS_energy (J/m^2)\"], 3)\n",
    "df[\"abs_rel_err_DFT (%)\"] = abs(np.round((FS_energy_DFT - df[\"FS_energy (J/m^2)\"]) / FS_energy_DFT * 100, 0))\n",
    "df[\"FS_energy (J/m^2)\"] = np.round(df[\"FS_energy (J/m^2)\"].tolist(), 3)\n",
    "df = df.sort_values(\"abs_rel_err_DFT (%)\")\n",
    "df = df.dropna(subset=\"FS_energy (J/m^2)\")\n",
    "df"
   ]
  },
  {
   "cell_type": "markdown",
   "metadata": {},
   "source": [
    "Order the potentials by the minimum error wrt. DFT!\n",
    "\n",
    "Now we have a good idea of how to search for an empirical potential which best captures the FS energetics of a specific surface.\n",
    "\n",
    "You can see that there are only a few potentials that are very, very accurate at predicting this specific surface energy. \n",
    "\n",
    "For a real study you should consider not just a single surface, but validate it across multiple surfaces and ideally the specific phenomena you want to study."
   ]
  },
  {
   "cell_type": "code",
   "execution_count": 8,
   "metadata": {},
   "outputs": [
    {
     "data": {
      "text/html": [
       "<div>\n",
       "<style scoped>\n",
       "    .dataframe tbody tr th:only-of-type {\n",
       "        vertical-align: middle;\n",
       "    }\n",
       "\n",
       "    .dataframe tbody tr th {\n",
       "        vertical-align: top;\n",
       "    }\n",
       "\n",
       "    .dataframe thead th {\n",
       "        text-align: right;\n",
       "    }\n",
       "</style>\n",
       "<table border=\"1\" class=\"dataframe\">\n",
       "  <thead>\n",
       "    <tr style=\"text-align: right;\">\n",
       "      <th></th>\n",
       "      <th>potential</th>\n",
       "      <th>FS_energy (J/m^2)</th>\n",
       "      <th>err_DFT (J/m^2)</th>\n",
       "      <th>abs_rel_err_DFT (%)</th>\n",
       "    </tr>\n",
       "  </thead>\n",
       "  <tbody>\n",
       "    <tr>\n",
       "      <th>66</th>\n",
       "      <td>2022--Starikov-S--Fe-Cr-H--LAMMPS--ipr1</td>\n",
       "      <td>2.786</td>\n",
       "      <td>-0.056</td>\n",
       "      <td>2.0</td>\n",
       "    </tr>\n",
       "    <tr>\n",
       "      <th>21</th>\n",
       "      <td>2009--Kim-H-K--Fe-Ti-C--LAMMPS--ipr2</td>\n",
       "      <td>2.648</td>\n",
       "      <td>0.082</td>\n",
       "      <td>3.0</td>\n",
       "    </tr>\n",
       "    <tr>\n",
       "      <th>56</th>\n",
       "      <td>2019--Mendelev-M-I--Fe-Ni-Cr--LAMMPS--ipr1</td>\n",
       "      <td>2.355</td>\n",
       "      <td>0.375</td>\n",
       "      <td>14.0</td>\n",
       "    </tr>\n",
       "    <tr>\n",
       "      <th>27</th>\n",
       "      <td>2010--Malerba-L--Fe--LAMMPS--ipr1</td>\n",
       "      <td>2.337</td>\n",
       "      <td>0.393</td>\n",
       "      <td>14.0</td>\n",
       "    </tr>\n",
       "    <tr>\n",
       "      <th>35</th>\n",
       "      <td>2012--Proville-L--Fe--LAMMPS--ipr1</td>\n",
       "      <td>3.182</td>\n",
       "      <td>-0.452</td>\n",
       "      <td>17.0</td>\n",
       "    </tr>\n",
       "    <tr>\n",
       "      <th>1</th>\n",
       "      <td>1998--Meyer-R--Fe--LAMMPS--ipr1</td>\n",
       "      <td>2.101</td>\n",
       "      <td>0.629</td>\n",
       "      <td>23.0</td>\n",
       "    </tr>\n",
       "    <tr>\n",
       "      <th>33</th>\n",
       "      <td>2012--Jelinek-B--Al-Si-Mg-Cu-Fe--LAMMPS--ipr2</td>\n",
       "      <td>2.075</td>\n",
       "      <td>0.655</td>\n",
       "      <td>24.0</td>\n",
       "    </tr>\n",
       "    <tr>\n",
       "      <th>59</th>\n",
       "      <td>2020--Groger-R--Co-Cr-Fe-Mn-Ni--LAMMPS--ipr1</td>\n",
       "      <td>2.026</td>\n",
       "      <td>0.704</td>\n",
       "      <td>26.0</td>\n",
       "    </tr>\n",
       "    <tr>\n",
       "      <th>7</th>\n",
       "      <td>2004--Zhou-X-W--Fe--LAMMPS--ipr2</td>\n",
       "      <td>3.639</td>\n",
       "      <td>-0.909</td>\n",
       "      <td>33.0</td>\n",
       "    </tr>\n",
       "    <tr>\n",
       "      <th>50</th>\n",
       "      <td>2018--Farkas-D--Fe-Ni-Cr-Co-Cu--LAMMPS--ipr2</td>\n",
       "      <td>1.593</td>\n",
       "      <td>1.137</td>\n",
       "      <td>42.0</td>\n",
       "    </tr>\n",
       "  </tbody>\n",
       "</table>\n",
       "</div>"
      ],
      "text/plain": [
       "                                        potential  FS_energy (J/m^2)   \n",
       "66        2022--Starikov-S--Fe-Cr-H--LAMMPS--ipr1              2.786  \\\n",
       "21           2009--Kim-H-K--Fe-Ti-C--LAMMPS--ipr2              2.648   \n",
       "56     2019--Mendelev-M-I--Fe-Ni-Cr--LAMMPS--ipr1              2.355   \n",
       "27              2010--Malerba-L--Fe--LAMMPS--ipr1              2.337   \n",
       "35             2012--Proville-L--Fe--LAMMPS--ipr1              3.182   \n",
       "1                 1998--Meyer-R--Fe--LAMMPS--ipr1              2.101   \n",
       "33  2012--Jelinek-B--Al-Si-Mg-Cu-Fe--LAMMPS--ipr2              2.075   \n",
       "59   2020--Groger-R--Co-Cr-Fe-Mn-Ni--LAMMPS--ipr1              2.026   \n",
       "7                2004--Zhou-X-W--Fe--LAMMPS--ipr2              3.639   \n",
       "50   2018--Farkas-D--Fe-Ni-Cr-Co-Cu--LAMMPS--ipr2              1.593   \n",
       "\n",
       "    err_DFT (J/m^2)  abs_rel_err_DFT (%)  \n",
       "66           -0.056                  2.0  \n",
       "21            0.082                  3.0  \n",
       "56            0.375                 14.0  \n",
       "27            0.393                 14.0  \n",
       "35           -0.452                 17.0  \n",
       "1             0.629                 23.0  \n",
       "33            0.655                 24.0  \n",
       "59            0.704                 26.0  \n",
       "7            -0.909                 33.0  \n",
       "50            1.137                 42.0  "
      ]
     },
     "execution_count": 8,
     "metadata": {},
     "output_type": "execute_result"
    }
   ],
   "source": [
    "df.sort_values(by=\"abs_rel_err_DFT (%)\").head(10)"
   ]
  }
 ],
 "metadata": {
  "kernelspec": {
   "display_name": "Python 3",
   "language": "python",
   "name": "python3"
  },
  "language_info": {
   "codemirror_mode": {
    "name": "ipython",
    "version": 3
   },
   "file_extension": ".py",
   "mimetype": "text/x-python",
   "name": "python",
   "nbconvert_exporter": "python",
   "pygments_lexer": "ipython3",
   "version": "3.10.10"
  },
  "orig_nbformat": 4
 },
 "nbformat": 4,
 "nbformat_minor": 2
}
